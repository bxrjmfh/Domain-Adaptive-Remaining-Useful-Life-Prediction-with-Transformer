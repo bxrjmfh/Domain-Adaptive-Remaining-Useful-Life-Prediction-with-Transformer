{
 "cells": [
  {
   "cell_type": "code",
   "execution_count": null,
   "metadata": {},
   "outputs": [],
   "source": [
    "from mydataset import TRANSFORMER_DATA_MINDS,TRANSFORMER_ALL_DATA_MINDS\n",
    "from mymodel import mymodel, Discriminator, backboneDiscriminator\n",
    "from myloss import advLoss\n",
    "from tqdm import tqdm\n",
    "import random\n",
    "import numpy\n",
    "import os \n",
    "import mindspore.dataset as ds\n",
    "import mindspore.nn as nn\n",
    "import mindspore.ops as ops\n",
    "from mindspore import Model,ParameterTuple\n",
    "\n"
   ]
  },
  {
   "cell_type": "code",
   "execution_count": 3,
   "metadata": {},
   "outputs": [
    {
     "ename": "SyntaxError",
     "evalue": "invalid syntax (1974695699.py, line 34)",
     "output_type": "error",
     "traceback": [
      "\u001b[0;36m  File \u001b[0;32m\"/tmp/ipykernel_97640/1974695699.py\"\u001b[0;36m, line \u001b[0;32m34\u001b[0m\n\u001b[0;31m    def construct(self,s_r, s_lb s_bkb, t_bkb, s_out, t_out):\u001b[0m\n\u001b[0m                                     ^\u001b[0m\n\u001b[0;31mSyntaxError\u001b[0m\u001b[0;31m:\u001b[0m invalid syntax\n"
     ]
    }
   ],
   "source": [
    "import numpy as np\n",
    "\n",
    "import mindspore.nn as nn\n",
    "import mindspore.ops as ops\n",
    "from mindspore import Model\n",
    "from mindspore import dataset as ds\n",
    "from mindspore.nn import LossBase\n",
    "from mindspore.common.initializer import Normal\n",
    "from mindspore.train.callback import LossMonitor\n",
    "\n",
    "seq_len = 70\n",
    "\n",
    "class L1LossForMultiLabel(LossBase):\n",
    "    def __init__(self, reduction=\"mean\"):\n",
    "        super(L1LossForMultiLabel, self).__init__(reduction)\n",
    "        self.abs = ops.Abs()\n",
    "\n",
    "    def construct(self, base, target1, target2):\n",
    "        x1 = self.abs(base - target1)\n",
    "        x2 = self.abs(base - target2)\n",
    "        return self.get_loss(x1)/2 + self.get_loss(x2)/2\n",
    "# reformat the loss class\n",
    "\n",
    "class MultipleLoss(LossBase):\n",
    "    def __init__(self, reduction='mean'):\n",
    "        super(MultipleLoss,self).__init__(reduction)\n",
    "        self.mseLoss = nn.MSELoss()\n",
    "        self.feaLoss = advLoss()\n",
    "        self.outLoss = advLoss()\n",
    "        self.a = 0.1\n",
    "        self.b = 0.5\n",
    "        self.allLoss = 0.0\n",
    "\n",
    "    def construct(self,s_r, s_lb, s_bkb, t_bkb, s_out, t_out):\n",
    "        loss1 = self.mseLoss(s_r,s_lb)\n",
    "        loss2 = self.feaLoss(s_bkb,t_bkb)\n",
    "        loss3 = self.outLoss(s_out,t_out)\n",
    "        return loss1 + self.a*loss2 + self.b*loss3\n",
    "\n",
    "        \n",
    "\n",
    "class CustomWithLossCell(nn.Cell):\n",
    "    def __init__(self, backbone, loss_fn):\n",
    "        super(CustomWithLossCell, self).__init__(auto_prefix=False)\n",
    "        self._backbone = backbone\n",
    "        self._loss_fn = loss_fn\n",
    "\n",
    "    def construct(self, data, label1, label2):\n",
    "        output = self._backbone(data)\n",
    "        return self._loss_fn(output, label1, label2)\n",
    "\n",
    "def get_multilabel_data(num, w=2.0, b=3.0):\n",
    "    for _ in range(num):\n",
    "        x = np.random.uniform(-10.0, 10.0)\n",
    "        noise1 = np.random.normal(0, 1)\n",
    "        noise2 = np.random.normal(-1, 1)\n",
    "        y1 = x * w + b + noise1\n",
    "        y2 = x * w + b + noise2\n",
    "        yield np.array([x]).astype(np.float32), np.array([y1]).astype(np.float32), np.array([y2]).astype(np.float32)\n",
    "\n",
    "def create_multilabel_dataset(num_data, batch_size=16):\n",
    "    dataset = ds.GeneratorDataset(list(get_multilabel_data(num_data)), column_names=['data', 'label1', 'label2'])\n",
    "    dataset = dataset.batch(batch_size)\n",
    "    return dataset\n",
    "\n",
    "# initial net\n",
    "net = mymodel(seq_len=seq_len)\n",
    "D1 = Discriminator(seq_len)\n",
    "D2 = backboneDiscriminator(seq_len)\n",
    "\n",
    "# Set up loss\n",
    "loss = L1LossForMultiLabel()\n",
    "# build loss network\n",
    "loss_net = CustomWithLossCell(net, loss)\n",
    "\n",
    "opt = nn.Momentum(net.trainable_params(), learning_rate=0.005, momentum=0.9)\n",
    "model = Model(network=loss_net, optimizer=opt)\n",
    "ds_train = create_multilabel_dataset(num_data=160)\n",
    "model.train(epoch=1, train_dataset=ds_train, callbacks=[LossMonitor()], dataset_sink_mode=False)\n"
   ]
  },
  {
   "cell_type": "code",
   "execution_count": null,
   "metadata": {},
   "outputs": [],
   "source": []
  }
 ],
 "metadata": {
  "kernelspec": {
   "display_name": "Python 3",
   "language": "python",
   "name": "python3"
  },
  "language_info": {
   "codemirror_mode": {
    "name": "ipython",
    "version": 3
   },
   "file_extension": ".py",
   "mimetype": "text/x-python",
   "name": "python",
   "nbconvert_exporter": "python",
   "pygments_lexer": "ipython3",
   "version": "3.7.5"
  },
  "orig_nbformat": 4
 },
 "nbformat": 4,
 "nbformat_minor": 2
}
