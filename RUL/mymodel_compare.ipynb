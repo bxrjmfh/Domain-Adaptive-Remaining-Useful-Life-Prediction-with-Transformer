{
 "cells": [
  {
   "cell_type": "code",
   "execution_count": 1,
   "metadata": {},
   "outputs": [],
   "source": [
    "from mydataset import TRANSFORMER_DATA_MINDS,TRANSFORMER_ALL_DATA_MINDS\n",
    "from mymodel import mymodel, Discriminator, backboneDiscriminator\n",
    "from myloss import advLoss\n",
    "from tqdm import tqdm\n",
    "import random\n",
    "import numpy\n",
    "import os \n",
    "import mindspore.dataset as ds\n",
    "import mindspore.nn as nn\n",
    "import mindspore.ops as ops\n",
    "from mindspore import Model,ParameterTuple\n",
    "import math\n",
    "import numpy as np\n",
    "from mindspore import dtype as mstype\n",
    "import mindspore.nn as nn\n",
    "import mindspore.ops as ops\n",
    "from mindspore import Model\n",
    "from mindspore import dataset as ds\n",
    "from mindspore.nn import LossBase\n",
    "from mindspore.common.initializer import Normal\n",
    "from mindspore.train.callback import LossMonitor,SummaryCollector\n",
    "from mindspore import set_context,context\n",
    "from mindspore.train.callback import Callback\n",
    "from mindspore import Tensor\n",
    "from mindspore.dataset import TupleIterator,DictIterator\n",
    "import pickle\n",
    "\n",
    "def prepareData(source_list,target_list,target_test_names):\n",
    "    s_path = '/Domain-Adaptive-Remaining-Useful-Life-Prediction-with-Transformer/RUL/s_data.dat'\n",
    "    t_path = '/Domain-Adaptive-Remaining-Useful-Life-Prediction-with-Transformer/RUL/t_data.dat'\n",
    "    tt_path = '/Domain-Adaptive-Remaining-Useful-Life-Prediction-with-Transformer/RUL/t_data_test.dat'\n",
    "    try:\n",
    "        with open(s_path, 'rb') as sf:\n",
    "            s_data = pickle.load(sf)\n",
    "        with open(t_path, 'rb') as tf:\n",
    "            t_data = pickle.load(tf)\n",
    "        with open(tt_path, 'rb') as ttf:\n",
    "            t_data_test = pickle.load(tf)\n",
    "    except Exception as e:\n",
    "        print(e)\n",
    "        s_data = TRANSFORMER_ALL_DATA_MINDS(source_list, seq_len)\n",
    "        t_data = TRANSFORMER_ALL_DATA_MINDS(target_list, seq_len)\n",
    "        t_data_test = TRANSFORMER_ALL_DATA_MINDS(target_test_names, seq_len)\n",
    "        with open(s_path, \"wb\") as sf:\n",
    "            pickle.dump(s_data, sf, protocol=pickle.HIGHEST_PROTOCOL)\n",
    "        with open(t_path, \"wb\") as tf:\n",
    "            pickle.dump(t_data, tf, protocol=pickle.HIGHEST_PROTOCOL)\n",
    "        with open(tt_path, \"wb\") as ttf:\n",
    "            pickle.dump(t_data_test, ttf, protocol=pickle.HIGHEST_PROTOCOL)\n",
    "        print('saved all data...')\n",
    "    return s_data,t_data,t_data_test\n",
    "\n",
    "    \n",
    "class MywithLossCell(nn.Cell):\n",
    "    def __init__(self,net, D1, D2,loss_fn, auto_prefix=False):\n",
    "        super(MywithLossCell, self).__init__()\n",
    "        self.net = net\n",
    "        self.D1 = D1\n",
    "        self.D2 = D2\n",
    "        self.loss_fn = loss_fn\n",
    "\n",
    "    def construct(self,s_input, s_lb,s_msk, t_input=None, t_msk=None):\n",
    "        s_features, s_out = self.net(s_input, s_msk)\n",
    "        t_features, t_out = self.net(t_input, t_msk)\n",
    "        s_out = s_out.squeeze(2)\n",
    "        t_out = t_out.squeeze(2)\n",
    "        s_domain_bkb = self.D2(s_features[0])\n",
    "        t_domain_bkb = self.D2(t_features[0])\n",
    "        s_domain_out = self.D1(s_out)\n",
    "        t_domain_out = self.D1(t_out)\n",
    "        return self.loss_fn(s_out,s_lb\n",
    "                            ,s_domain_bkb.squeeze(1), t_domain_bkb.squeeze(1)\n",
    "                            ,s_domain_out.squeeze(1), t_domain_out.squeeze(1))\n",
    "    \n",
    "\n",
    "\n",
    "class EvalCallBack(Callback):\n",
    "    # 进行评估的类，实例化后传入训练的callback中进行计算\n",
    "    # ref: https://www.cnblogs.com/skytier/p/16638657.html\n",
    "    # result_eval = {\"epoch\": [], \"acc\": [], \"loss\": []}\n",
    "    # eval_cb = EvalCallBack(net, ds_val, EVAL_PER_EPOCH, result_eval)\n",
    "    def __init__(self, net, eval_per_epoch, epoch_per_eval):\n",
    "        self.net = net\n",
    "        self.eval_per_epoch = eval_per_epoch\n",
    "        self.epoch_per_eval = epoch_per_eval\n",
    "        # epoch_per_eval：记录验证模型的精度和相应的epoch数，其数据形式为{\"epoch\": [], \"acc\": []}\n",
    "\n",
    "    def epoch_end(self, run_context):\n",
    "        cb_param = run_context.original_args()\n",
    "        cur_epoch = cb_param.cur_epoch_num\n",
    "        if cur_epoch % self.eval_per_epoch == 0:\n",
    "            # begin eval:\n",
    "            tot = 0\n",
    "            for i in tqdm(target_test_names):\n",
    "                pred_sum, pred_cnt = Tensor(np.zeros(800)), Tensor(np.zeros(800))\n",
    "                # 记录结果 （800维？）\n",
    "                valid_data = TRANSFORMER_DATA_MINDS(i, seq_len)\n",
    "                # 变换一项结果\n",
    "                data_len = len(valid_data)\n",
    "                sampler = ds.RandomSampler()\n",
    "                valid_dataset = ds.GeneratorDataset(valid_data,sampler=sampler,column_names=['input','label','msk'])\n",
    "                valid_dataset = valid_dataset.batch(batch_size=len(valid_data),drop_remainder=True)\n",
    "                vd_iter = valid_dataset.create_tuple_iterator()\n",
    "                d = next(vd_iter)\n",
    "                input, lbl, msk = d[0], d[1], d[2]\n",
    "                outputs = self.net(input,msk)\n",
    "                # return of WithEvalCell:\n",
    "                #   return loss, (net)outputs, label\n",
    "                out = outputs[1]\n",
    "                out = out.squeeze(2)\n",
    "                for j in range(data_len):\n",
    "                    if j < seq_len-1:\n",
    "                        pred_sum[:j+1] += out[j, -(j+1):]\n",
    "                        pred_cnt[:j+1] += 1\n",
    "                    elif j <= data_len-seq_len:\n",
    "                        pred_sum[j-seq_len+1:j+1] += out[j]\n",
    "                        pred_cnt[j-seq_len+1:j+1] += 1\n",
    "                    else:\n",
    "                        pred_sum[data_len-seq_len+1-(data_len-j):data_len-seq_len+1] += out[j, :(data_len-j)]\n",
    "                        pred_cnt[data_len-seq_len+1-(data_len-j):data_len-seq_len+1] \n",
    "                \n",
    "                truth = Tensor([lbl[j,-1].asnumpy() for j in range(len(lbl)-seq_len+1)], dtype=mstype.float32)\n",
    "                pred_sum, pred_cnt = pred_sum[:data_len-seq_len+1], pred_cnt[:data_len-seq_len+1]\n",
    "                pred = pred_sum/pred_cnt\n",
    "                mse = (ops.pow(pred-truth, 2)).sum()\n",
    "                rmse = math.sqrt(mse/data_len)\n",
    "                tot += rmse\n",
    "            Rc = 130\n",
    "            mse_res = tot*Rc/len(valid_list)\n",
    "            self.epoch_per_eval[\"mse\"].append(mse_res)\n",
    "            print('eval score: ' + str(mse_res))\n",
    "            \n",
    "            \n",
    "\n",
    "# 以下cell是model的组成成分，用于在callback 中调用，定义行为\n",
    "# https://www.hiascend.com/app-forum/topic-detail/0224103731274466014\n",
    "class CustomWithEvalCell(nn.Cell):\n",
    "    \"\"\"自定义多标签评估网络\"\"\"\n",
    "\n",
    "    def __init__(self, network):\n",
    "        super(CustomWithEvalCell, self).__init__(auto_prefix=False)\n",
    "        self.network = network\n",
    "        # network is mymodel, receive src as fellow:\n",
    "        '''\n",
    "        def construct(self, src, attn_msk=None):\n",
    "            src = self.pos_encoder(src)\n",
    "            # output1 = self.transformer_encoder(src, attn_msk, key_msk)\n",
    "            # problem？\n",
    "            attn_msk = self.trans_mask_generator(attn_msk)\n",
    "            output1 = self.transformer_encoder(src, attn_msk)\n",
    "            # return the multiple result..\n",
    "            output2 = self.decoder(output1[0])\n",
    "            return output1, output2\n",
    "        '''\n",
    "    def construct(self, target_test_names):\n",
    "        output = self.network(data)\n",
    "        return output, label1, label2\n",
    "    \n",
    "\n",
    "\n",
    "class MERGED_DATA():\n",
    "    def __init__(self,s_data,t_data) -> None:\n",
    "        self.s_data = s_data\n",
    "        self.t_data = t_data\n",
    "    \n",
    "    def __len__(self):\n",
    "        return min(len(self.s_data),len(self.t_data))\n",
    "    \n",
    "    def __getitem__(self,index):\n",
    "        # return self.s_data[index]+(self.t_data[index][0],self.t_data[index][2])\n",
    "        return (self.s_data[index][0],self.s_data[index][1],self.s_data[index][2],self.t_data[index][0],self.t_data[index][2])\n",
    "        # ['s_input', 's_lb', 's_msk','t_input', 't_msk']\n",
    "\n",
    "\n",
    "class MultipleLoss(LossBase):\n",
    "    def __init__(self, reduction='mean'):\n",
    "        super(MultipleLoss, self).__init__(reduction)\n",
    "        self.mseLoss = nn.MSELoss()\n",
    "        self.feaLoss = advLoss()\n",
    "        self.outLoss = advLoss()\n",
    "        self.a = 0.1\n",
    "        self.b = 0.5\n",
    "        self.allLoss = 0.0\n",
    "\n",
    "    def construct(self, s_r, s_lb, s_bkb, t_bkb, s_out, t_out):\n",
    "        loss1 = self.mseLoss(s_r, s_lb)\n",
    "        loss2 = self.feaLoss(s_bkb, t_bkb)\n",
    "        loss3 = self.outLoss(s_out, t_out)\n",
    "        return loss1 + self.a*loss2 + self.b*loss3\n"
   ]
  },
  {
   "cell_type": "code",
   "execution_count": 2,
   "metadata": {},
   "outputs": [
    {
     "name": "stdout",
     "output_type": "stream",
     "text": [
      "peek of closed file\n"
     ]
    },
    {
     "name": "stderr",
     "output_type": "stream",
     "text": [
      "  4%|▍         | 3/70 [00:05<01:52,  1.68s/it]\n",
      "  2%|▏         | 4/182 [00:01<01:16,  2.32it/s]\n",
      "  4%|▍         | 3/78 [00:01<00:34,  2.16it/s]\n"
     ]
    },
    {
     "name": "stdout",
     "output_type": "stream",
     "text": [
      "saved all data...\n"
     ]
    }
   ],
   "source": [
    "# prepare data\n",
    "seq_len = 70\n",
    "target= 'FD002'\n",
    "source = 'FD003'\n",
    "epoches = 240\n",
    "os.chdir('/Domain-Adaptive-Remaining-Useful-Life-Prediction-with-Transformer/')\n",
    "batch_size = 100\n",
    "a = 0.1\n",
    "b = 0.5\n",
    "source_list = numpy.loadtxt(\"save/\"+source+\"/train\"+source+\".txt\", dtype=str).tolist()\n",
    "target_list = numpy.loadtxt(\"save/\"+target+\"/train\"+target+\".txt\", dtype=str).tolist()\n",
    "valid_list = numpy.loadtxt(\"save/\"+target+\"/test\"+target+\".txt\", dtype=str).tolist()\n",
    "# len(v) = 47\n",
    "a_list = numpy.loadtxt(\"save/\"+target+\"/valid\"+target+\".txt\", dtype=str).tolist()\n",
    "# len(a_list) 31\n",
    "target_test_names = valid_list + a_list\n",
    "# 78 files\n",
    "# target_test_names = target_test_names[]\n",
    "minl = min(len(source_list), len(target_list))\n",
    "s_data,t_data,t_data_test = prepareData(source_list,target_list,target_test_names)"
   ]
  },
  {
   "cell_type": "code",
   "execution_count": 3,
   "metadata": {},
   "outputs": [
    {
     "name": "stdout",
     "output_type": "stream",
     "text": [
      "0.00971056\n",
      "0.0072242646\n",
      "[[0.      0.      0.      ... 0.      0.      0.     ]\n",
      " [0.      0.      0.      ... 0.      0.      0.     ]\n",
      " [0.      0.      0.      ... 0.      0.      0.     ]\n",
      " ...\n",
      " [0.      0.      0.      ... 0.      0.      0.     ]\n",
      " [0.      0.      0.      ... 0.      0.      0.     ]\n",
      " [0.23803 0.29715 1.      ... 1.      0.62894 0.62891]]\n",
      "(70, 24)\n",
      "1.0\n",
      "0.0\n",
      "[1. 1. 1. 1. 1. 1. 1. 1. 1. 1. 1. 1. 1. 1. 1. 1. 1. 1. 1. 1. 1. 1. 1. 1.\n",
      " 1. 1. 1. 1. 1. 1. 1. 1. 1. 1. 1. 1. 1. 1. 1. 1. 1. 1. 1. 1. 1. 1. 1. 1.\n",
      " 1. 1. 1. 1. 1. 1. 1. 1. 1. 1. 1. 1. 1. 1. 1. 1. 1. 1. 1. 1. 1. 1.]\n",
      "(70,)\n",
      "0.9857143\n",
      "0.014081633\n",
      "[1. 1. 1. 1. 1. 1. 1. 1. 1. 1. 1. 1. 1. 1. 1. 1. 1. 1. 1. 1. 1. 1. 1. 1.\n",
      " 1. 1. 1. 1. 1. 1. 1. 1. 1. 1. 1. 1. 1. 1. 1. 1. 1. 1. 1. 1. 1. 1. 1. 1.\n",
      " 1. 1. 1. 1. 1. 1. 1. 1. 1. 1. 1. 1. 1. 1. 1. 1. 1. 1. 1. 1. 1. 0.]\n",
      "(70,)\n"
     ]
    }
   ],
   "source": [
    "len(s_data)\n",
    "l = t_data[0]\n",
    "for feature in l:\n",
    "    print(Tensor.mean(feature))\n",
    "    print(Tensor.var(feature))\n",
    "    print(feature)\n",
    "    print(feature.shape)\n",
    "    \n"
   ]
  },
  {
   "cell_type": "code",
   "execution_count": 4,
   "metadata": {},
   "outputs": [
    {
     "data": {
      "text/plain": [
       "'FD003-56.txt'"
      ]
     },
     "execution_count": 4,
     "metadata": {},
     "output_type": "execute_result"
    }
   ],
   "source": [
    "source_list[0]"
   ]
  },
  {
   "cell_type": "code",
   "execution_count": 5,
   "metadata": {},
   "outputs": [],
   "source": [
    "# test model output..\n",
    "net = mymodel(max_len=seq_len)"
   ]
  },
  {
   "cell_type": "code",
   "execution_count": 6,
   "metadata": {},
   "outputs": [],
   "source": [
    "sf,sm,sl = s_data[0]\n",
    "sf = sf.unsqueeze(0)\n",
    "sl = sl.unsqueeze(0)\n",
    "sm = sm.unsqueeze(0)\n",
    "net.set_train()\n",
    "o1,o2 = net(sf,sm)"
   ]
  },
  {
   "cell_type": "code",
   "execution_count": 7,
   "metadata": {},
   "outputs": [
    {
     "data": {
      "text/plain": [
       "tuple"
      ]
     },
     "execution_count": 7,
     "metadata": {},
     "output_type": "execute_result"
    }
   ],
   "source": [
    "type(o1)"
   ]
  },
  {
   "cell_type": "code",
   "execution_count": 8,
   "metadata": {},
   "outputs": [
    {
     "data": {
      "text/plain": [
       "2"
      ]
     },
     "execution_count": 8,
     "metadata": {},
     "output_type": "execute_result"
    }
   ],
   "source": [
    "len(o1)"
   ]
  },
  {
   "cell_type": "code",
   "execution_count": 9,
   "metadata": {},
   "outputs": [
    {
     "name": "stdout",
     "output_type": "stream",
     "text": [
      "[[[-0.9211623   1.0781664  -0.9084619  ...  1.104544   -0.92165077\n",
      "    1.1025901 ]\n",
      "  [-0.77566534 -0.7869045  -0.7668695  ... -0.76980144 -0.75856227\n",
      "    1.3030918 ]\n",
      "  [-0.90833426  1.0835211  -0.91761464 ...  1.1040356  -0.9234759\n",
      "    1.0962206 ]\n",
      "  ...\n",
      "  [-0.9119707   1.0804917  -0.91148233 ...  1.1049091  -0.92662114\n",
      "    1.0961188 ]\n",
      "  [-0.8492003   1.1810099  -0.84382296 ...  1.1927423  -0.8628882\n",
      "   -0.8423564 ]\n",
      "  [-0.68635905 -1.6641768  -0.02287679 ...  1.6381541  -0.66635376\n",
      "    0.8652681 ]]]\n"
     ]
    }
   ],
   "source": [
    "print(o1[0])"
   ]
  },
  {
   "cell_type": "code",
   "execution_count": 10,
   "metadata": {},
   "outputs": [
    {
     "data": {
      "text/plain": [
       "Tensor(shape=[], dtype=Float32, value= -2.27065e-09)"
      ]
     },
     "execution_count": 10,
     "metadata": {},
     "output_type": "execute_result"
    }
   ],
   "source": [
    "Tensor.mean(o1[0])"
   ]
  },
  {
   "cell_type": "code",
   "execution_count": 11,
   "metadata": {},
   "outputs": [
    {
     "data": {
      "text/plain": [
       "Tensor(shape=[], dtype=Float32, value= 0.99999)"
      ]
     },
     "execution_count": 11,
     "metadata": {},
     "output_type": "execute_result"
    }
   ],
   "source": [
    "Tensor.var(o1[0])"
   ]
  },
  {
   "cell_type": "code",
   "execution_count": 12,
   "metadata": {},
   "outputs": [
    {
     "name": "stdout",
     "output_type": "stream",
     "text": [
      "<class 'mindspore.common.tensor.Tensor'>\n",
      "1\n",
      "<class 'tuple'>\n",
      "2\n"
     ]
    }
   ],
   "source": [
    "for o in o1:\n",
    "    print(type(o))\n",
    "    print(len(o))"
   ]
  },
  {
   "cell_type": "code",
   "execution_count": 13,
   "metadata": {},
   "outputs": [
    {
     "data": {
      "text/plain": [
       "2"
      ]
     },
     "execution_count": 13,
     "metadata": {},
     "output_type": "execute_result"
    }
   ],
   "source": [
    "len(o1[1][0])"
   ]
  },
  {
   "cell_type": "code",
   "execution_count": 14,
   "metadata": {},
   "outputs": [
    {
     "data": {
      "text/plain": [
       "Tensor(shape=[1, 8, 70, 3], dtype=Float16, value=\n",
       "[[[[ 6.3660e-02,  3.3150e-03, -3.5339e-02],\n",
       "   [ 2.1957e-02,  1.4854e-02, -2.5272e-03],\n",
       "   [ 6.2500e-02,  1.4305e-02, -3.0731e-02],\n",
       "   ...\n",
       "   [ 5.0079e-02,  1.5686e-02, -4.5685e-02],\n",
       "   [ 4.4586e-02, -6.0234e-03, -3.1311e-02],\n",
       "   [ 6.8115e-02,  4.1901e-02, -6.8604e-02]],\n",
       "  [[-3.1982e-02, -2.1805e-02,  2.1088e-02],\n",
       "   [-2.0309e-02, -3.8574e-02,  8.6517e-03],\n",
       "   [ 1.5991e-02, -2.4261e-02,  1.2865e-03],\n",
       "   ...\n",
       "   [-6.8855e-03,  1.4519e-02,  1.2459e-02],\n",
       "   [ 1.5106e-02, -1.9943e-02, -8.2855e-03],\n",
       "   [ 5.4382e-02, -6.0944e-02,  7.9102e-02]],\n",
       "  [[ 5.9605e-05,  2.3071e-02, -8.2825e-02],\n",
       "   [ 1.0246e-02,  1.2726e-02, -3.2867e-02],\n",
       "   [ 4.7211e-02,  2.1545e-02, -6.4697e-02],\n",
       "   ...\n",
       "   [ 3.4546e-02,  3.3844e-02, -7.0251e-02],\n",
       "   [ 4.6326e-02,  2.1423e-02, -4.0222e-02],\n",
       "   [ 2.4353e-02,  3.4119e-02, -1.4844e-01]],\n",
       "  ...\n",
       "  [[-3.1052e-02,  2.2034e-02,  6.2378e-02],\n",
       "   [-9.7809e-03,  2.3422e-02,  4.2969e-02],\n",
       "   [-4.3297e-03, -3.1834e-03,  4.3671e-02],\n",
       "   ...\n",
       "   [-1.3023e-02,  1.0643e-02,  5.6793e-02],\n",
       "   [ 6.0234e-03,  5.1498e-03,  4.1199e-02],\n",
       "   [-3.8605e-02,  2.3041e-02,  8.5266e-02]],\n",
       "  [[ 9.4271e-04, -2.1301e-02,  3.0731e-02],\n",
       "   [ 8.9035e-03, -3.8025e-02,  2.4780e-02],\n",
       "   [-2.2964e-02, -3.8818e-02,  3.3600e-02],\n",
       "   ...\n",
       "   [-6.3019e-03, -2.2614e-02,  2.7878e-02],\n",
       "   [-2.4353e-02, -1.8051e-02,  5.2460e-02],\n",
       "   [-1.7380e-02,  2.5116e-02,  2.8458e-02]],\n",
       "  [[ 4.8401e-02,  2.0142e-02, -9.9869e-03],\n",
       "   [ 1.8875e-02, -2.2522e-02, -3.5515e-03],\n",
       "   [ 3.7231e-02,  9.4528e-03, -1.2390e-02],\n",
       "   ...\n",
       "   [ 6.1417e-03,  2.9022e-02,  2.8133e-04],\n",
       "   [ 3.6774e-02, -1.9302e-02, -1.0551e-02],\n",
       "   [ 5.4474e-02,  3.2318e-02,  8.7786e-04]]]])"
      ]
     },
     "execution_count": 14,
     "metadata": {},
     "output_type": "execute_result"
    }
   ],
   "source": [
    "o1[1][0][1]"
   ]
  },
  {
   "cell_type": "code",
   "execution_count": 15,
   "metadata": {},
   "outputs": [
    {
     "data": {
      "text/plain": [
       "Tensor(shape=[1, 8, 70, 3], dtype=Float16, value=\n",
       "[[[[ 6.3660e-02,  3.3150e-03, -3.5339e-02],\n",
       "   [ 2.1957e-02,  1.4854e-02, -2.5272e-03],\n",
       "   [ 6.2500e-02,  1.4305e-02, -3.0731e-02],\n",
       "   ...\n",
       "   [ 5.0079e-02,  1.5686e-02, -4.5685e-02],\n",
       "   [ 4.4586e-02, -6.0234e-03, -3.1311e-02],\n",
       "   [ 6.8115e-02,  4.1901e-02, -6.8604e-02]],\n",
       "  [[-3.1982e-02, -2.1805e-02,  2.1088e-02],\n",
       "   [-2.0309e-02, -3.8574e-02,  8.6517e-03],\n",
       "   [ 1.5991e-02, -2.4261e-02,  1.2865e-03],\n",
       "   ...\n",
       "   [-6.8855e-03,  1.4519e-02,  1.2459e-02],\n",
       "   [ 1.5106e-02, -1.9943e-02, -8.2855e-03],\n",
       "   [ 5.4382e-02, -6.0944e-02,  7.9102e-02]],\n",
       "  [[ 5.9605e-05,  2.3071e-02, -8.2825e-02],\n",
       "   [ 1.0246e-02,  1.2726e-02, -3.2867e-02],\n",
       "   [ 4.7211e-02,  2.1545e-02, -6.4697e-02],\n",
       "   ...\n",
       "   [ 3.4546e-02,  3.3844e-02, -7.0251e-02],\n",
       "   [ 4.6326e-02,  2.1423e-02, -4.0222e-02],\n",
       "   [ 2.4353e-02,  3.4119e-02, -1.4844e-01]],\n",
       "  ...\n",
       "  [[-3.1052e-02,  2.2034e-02,  6.2378e-02],\n",
       "   [-9.7809e-03,  2.3422e-02,  4.2969e-02],\n",
       "   [-4.3297e-03, -3.1834e-03,  4.3671e-02],\n",
       "   ...\n",
       "   [-1.3023e-02,  1.0643e-02,  5.6793e-02],\n",
       "   [ 6.0234e-03,  5.1498e-03,  4.1199e-02],\n",
       "   [-3.8605e-02,  2.3041e-02,  8.5266e-02]],\n",
       "  [[ 9.4271e-04, -2.1301e-02,  3.0731e-02],\n",
       "   [ 8.9035e-03, -3.8025e-02,  2.4780e-02],\n",
       "   [-2.2964e-02, -3.8818e-02,  3.3600e-02],\n",
       "   ...\n",
       "   [-6.3019e-03, -2.2614e-02,  2.7878e-02],\n",
       "   [-2.4353e-02, -1.8051e-02,  5.2460e-02],\n",
       "   [-1.7380e-02,  2.5116e-02,  2.8458e-02]],\n",
       "  [[ 4.8401e-02,  2.0142e-02, -9.9869e-03],\n",
       "   [ 1.8875e-02, -2.2522e-02, -3.5515e-03],\n",
       "   [ 3.7231e-02,  9.4528e-03, -1.2390e-02],\n",
       "   ...\n",
       "   [ 6.1417e-03,  2.9022e-02,  2.8133e-04],\n",
       "   [ 3.6774e-02, -1.9302e-02, -1.0551e-02],\n",
       "   [ 5.4474e-02,  3.2318e-02,  8.7786e-04]]]])"
      ]
     },
     "execution_count": 15,
     "metadata": {},
     "output_type": "execute_result"
    }
   ],
   "source": [
    "o1[1][0][1]"
   ]
  },
  {
   "cell_type": "code",
   "execution_count": 16,
   "metadata": {},
   "outputs": [],
   "source": [
    "a = Tensor(1.0)"
   ]
  },
  {
   "cell_type": "code",
   "execution_count": 17,
   "metadata": {},
   "outputs": [
    {
     "data": {
      "text/plain": [
       "Tensor(shape=[], dtype=Float32, value= 1)"
      ]
     },
     "execution_count": 17,
     "metadata": {},
     "output_type": "execute_result"
    }
   ],
   "source": [
    "a"
   ]
  },
  {
   "cell_type": "code",
   "execution_count": 18,
   "metadata": {},
   "outputs": [
    {
     "name": "stdout",
     "output_type": "stream",
     "text": [
      "1.0 1.0 1.0\n"
     ]
    }
   ],
   "source": [
    "print(f\"{a} {a} {a}\")"
   ]
  },
  {
   "cell_type": "code",
   "execution_count": 20,
   "metadata": {},
   "outputs": [
    {
     "data": {
      "text/plain": [
       "[Parameter (name=transformer_encoder.blocks.0.layernorm1.gamma, shape=(24,), dtype=Float32, requires_grad=True),\n",
       " Parameter (name=transformer_encoder.blocks.0.layernorm1.beta, shape=(24,), dtype=Float32, requires_grad=True),\n",
       " Parameter (name=transformer_encoder.blocks.0.layernorm2.gamma, shape=(24,), dtype=Float32, requires_grad=True),\n",
       " Parameter (name=transformer_encoder.blocks.0.layernorm2.beta, shape=(24,), dtype=Float32, requires_grad=True),\n",
       " Parameter (name=transformer_encoder.blocks.0.attention.projection.weight, shape=(24, 24), dtype=Float32, requires_grad=True),\n",
       " Parameter (name=transformer_encoder.blocks.0.attention.projection.bias, shape=(24,), dtype=Float32, requires_grad=True),\n",
       " Parameter (name=transformer_encoder.blocks.0.attention.dense1.weight, shape=(24, 24), dtype=Float32, requires_grad=True),\n",
       " Parameter (name=transformer_encoder.blocks.0.attention.dense1.bias, shape=(24,), dtype=Float32, requires_grad=True),\n",
       " Parameter (name=transformer_encoder.blocks.0.attention.dense2.weight, shape=(24, 24), dtype=Float32, requires_grad=True),\n",
       " Parameter (name=transformer_encoder.blocks.0.attention.dense2.bias, shape=(24,), dtype=Float32, requires_grad=True),\n",
       " Parameter (name=transformer_encoder.blocks.0.attention.dense3.weight, shape=(24, 24), dtype=Float32, requires_grad=True),\n",
       " Parameter (name=transformer_encoder.blocks.0.attention.dense3.bias, shape=(24,), dtype=Float32, requires_grad=True),\n",
       " Parameter (name=transformer_encoder.blocks.0.output.mapping.weight, shape=(24, 512), dtype=Float32, requires_grad=True),\n",
       " Parameter (name=transformer_encoder.blocks.0.output.mapping.bias, shape=(512,), dtype=Float32, requires_grad=True),\n",
       " Parameter (name=transformer_encoder.blocks.0.output.projection.weight, shape=(512, 24), dtype=Float32, requires_grad=True),\n",
       " Parameter (name=transformer_encoder.blocks.0.output.projection.bias, shape=(24,), dtype=Float32, requires_grad=True),\n",
       " Parameter (name=transformer_encoder.blocks.1.layernorm1.gamma, shape=(24,), dtype=Float32, requires_grad=True),\n",
       " Parameter (name=transformer_encoder.blocks.1.layernorm1.beta, shape=(24,), dtype=Float32, requires_grad=True),\n",
       " Parameter (name=transformer_encoder.blocks.1.layernorm2.gamma, shape=(24,), dtype=Float32, requires_grad=True),\n",
       " Parameter (name=transformer_encoder.blocks.1.layernorm2.beta, shape=(24,), dtype=Float32, requires_grad=True),\n",
       " Parameter (name=transformer_encoder.blocks.1.attention.projection.weight, shape=(24, 24), dtype=Float32, requires_grad=True),\n",
       " Parameter (name=transformer_encoder.blocks.1.attention.projection.bias, shape=(24,), dtype=Float32, requires_grad=True),\n",
       " Parameter (name=transformer_encoder.blocks.1.attention.dense1.weight, shape=(24, 24), dtype=Float32, requires_grad=True),\n",
       " Parameter (name=transformer_encoder.blocks.1.attention.dense1.bias, shape=(24,), dtype=Float32, requires_grad=True),\n",
       " Parameter (name=transformer_encoder.blocks.1.attention.dense2.weight, shape=(24, 24), dtype=Float32, requires_grad=True),\n",
       " Parameter (name=transformer_encoder.blocks.1.attention.dense2.bias, shape=(24,), dtype=Float32, requires_grad=True),\n",
       " Parameter (name=transformer_encoder.blocks.1.attention.dense3.weight, shape=(24, 24), dtype=Float32, requires_grad=True),\n",
       " Parameter (name=transformer_encoder.blocks.1.attention.dense3.bias, shape=(24,), dtype=Float32, requires_grad=True),\n",
       " Parameter (name=transformer_encoder.blocks.1.output.mapping.weight, shape=(24, 512), dtype=Float32, requires_grad=True),\n",
       " Parameter (name=transformer_encoder.blocks.1.output.mapping.bias, shape=(512,), dtype=Float32, requires_grad=True),\n",
       " Parameter (name=transformer_encoder.blocks.1.output.projection.weight, shape=(512, 24), dtype=Float32, requires_grad=True),\n",
       " Parameter (name=transformer_encoder.blocks.1.output.projection.bias, shape=(24,), dtype=Float32, requires_grad=True),\n",
       " Parameter (name=decoder.weight, shape=(1, 24), dtype=Float32, requires_grad=True),\n",
       " Parameter (name=decoder.bias, shape=(1,), dtype=Float32, requires_grad=True)]"
      ]
     },
     "execution_count": 20,
     "metadata": {},
     "output_type": "execute_result"
    }
   ],
   "source": [
    "net.trainable_params()"
   ]
  },
  {
   "cell_type": "code",
   "execution_count": 24,
   "metadata": {},
   "outputs": [
    {
     "data": {
      "text/plain": [
       "[Parameter (name=li.0.weight, shape=(512, 70), dtype=Float32, requires_grad=True),\n",
       " Parameter (name=li.0.bias, shape=(512,), dtype=Float32, requires_grad=True),\n",
       " Parameter (name=li.1.gamma, shape=(512,), dtype=Float32, requires_grad=True),\n",
       " Parameter (name=li.1.beta, shape=(512,), dtype=Float32, requires_grad=True),\n",
       " Parameter (name=li.3.weight, shape=(1, 512), dtype=Float32, requires_grad=True),\n",
       " Parameter (name=li.3.bias, shape=(1,), dtype=Float32, requires_grad=True)]"
      ]
     },
     "execution_count": 24,
     "metadata": {},
     "output_type": "execute_result"
    }
   ],
   "source": [
    "D1 = Discriminator(in_features=seq_len)\n",
    "D2 = backboneDiscriminator(seq_len)\n",
    "D1.trainable_params()"
   ]
  },
  {
   "cell_type": "code",
   "execution_count": 25,
   "metadata": {},
   "outputs": [
    {
     "data": {
      "text/plain": [
       "[Parameter (name=li1.weight, shape=(1, 24), dtype=Float32, requires_grad=True),\n",
       " Parameter (name=li1.bias, shape=(1,), dtype=Float32, requires_grad=True),\n",
       " Parameter (name=li2.0.weight, shape=(512, 70), dtype=Float32, requires_grad=True),\n",
       " Parameter (name=li2.0.bias, shape=(512,), dtype=Float32, requires_grad=True),\n",
       " Parameter (name=li2.1.gamma, shape=(512,), dtype=Float32, requires_grad=True),\n",
       " Parameter (name=li2.1.beta, shape=(512,), dtype=Float32, requires_grad=True),\n",
       " Parameter (name=li2.3.weight, shape=(1, 512), dtype=Float32, requires_grad=True),\n",
       " Parameter (name=li2.3.bias, shape=(1,), dtype=Float32, requires_grad=True)]"
      ]
     },
     "execution_count": 25,
     "metadata": {},
     "output_type": "execute_result"
    }
   ],
   "source": [
    "D2.trainable_params()"
   ]
  },
  {
   "cell_type": "code",
   "execution_count": 26,
   "metadata": {},
   "outputs": [],
   "source": [
    "loss_func = MultipleLoss()"
   ]
  },
  {
   "cell_type": "code",
   "execution_count": 27,
   "metadata": {},
   "outputs": [],
   "source": [
    "loss_net = MywithLossCell(net,D1,D2,loss_func)"
   ]
  },
  {
   "cell_type": "code",
   "execution_count": 28,
   "metadata": {},
   "outputs": [
    {
     "data": {
      "text/plain": [
       "[Parameter (name=net.transformer_encoder.blocks.0.layernorm1.gamma, shape=(24,), dtype=Float32, requires_grad=True),\n",
       " Parameter (name=net.transformer_encoder.blocks.0.layernorm1.beta, shape=(24,), dtype=Float32, requires_grad=True),\n",
       " Parameter (name=net.transformer_encoder.blocks.0.layernorm2.gamma, shape=(24,), dtype=Float32, requires_grad=True),\n",
       " Parameter (name=net.transformer_encoder.blocks.0.layernorm2.beta, shape=(24,), dtype=Float32, requires_grad=True),\n",
       " Parameter (name=net.transformer_encoder.blocks.0.attention.projection.weight, shape=(24, 24), dtype=Float32, requires_grad=True),\n",
       " Parameter (name=net.transformer_encoder.blocks.0.attention.projection.bias, shape=(24,), dtype=Float32, requires_grad=True),\n",
       " Parameter (name=net.transformer_encoder.blocks.0.attention.dense1.weight, shape=(24, 24), dtype=Float32, requires_grad=True),\n",
       " Parameter (name=net.transformer_encoder.blocks.0.attention.dense1.bias, shape=(24,), dtype=Float32, requires_grad=True),\n",
       " Parameter (name=net.transformer_encoder.blocks.0.attention.dense2.weight, shape=(24, 24), dtype=Float32, requires_grad=True),\n",
       " Parameter (name=net.transformer_encoder.blocks.0.attention.dense2.bias, shape=(24,), dtype=Float32, requires_grad=True),\n",
       " Parameter (name=net.transformer_encoder.blocks.0.attention.dense3.weight, shape=(24, 24), dtype=Float32, requires_grad=True),\n",
       " Parameter (name=net.transformer_encoder.blocks.0.attention.dense3.bias, shape=(24,), dtype=Float32, requires_grad=True),\n",
       " Parameter (name=net.transformer_encoder.blocks.0.output.mapping.weight, shape=(24, 512), dtype=Float32, requires_grad=True),\n",
       " Parameter (name=net.transformer_encoder.blocks.0.output.mapping.bias, shape=(512,), dtype=Float32, requires_grad=True),\n",
       " Parameter (name=net.transformer_encoder.blocks.0.output.projection.weight, shape=(512, 24), dtype=Float32, requires_grad=True),\n",
       " Parameter (name=net.transformer_encoder.blocks.0.output.projection.bias, shape=(24,), dtype=Float32, requires_grad=True),\n",
       " Parameter (name=net.transformer_encoder.blocks.1.layernorm1.gamma, shape=(24,), dtype=Float32, requires_grad=True),\n",
       " Parameter (name=net.transformer_encoder.blocks.1.layernorm1.beta, shape=(24,), dtype=Float32, requires_grad=True),\n",
       " Parameter (name=net.transformer_encoder.blocks.1.layernorm2.gamma, shape=(24,), dtype=Float32, requires_grad=True),\n",
       " Parameter (name=net.transformer_encoder.blocks.1.layernorm2.beta, shape=(24,), dtype=Float32, requires_grad=True),\n",
       " Parameter (name=net.transformer_encoder.blocks.1.attention.projection.weight, shape=(24, 24), dtype=Float32, requires_grad=True),\n",
       " Parameter (name=net.transformer_encoder.blocks.1.attention.projection.bias, shape=(24,), dtype=Float32, requires_grad=True),\n",
       " Parameter (name=net.transformer_encoder.blocks.1.attention.dense1.weight, shape=(24, 24), dtype=Float32, requires_grad=True),\n",
       " Parameter (name=net.transformer_encoder.blocks.1.attention.dense1.bias, shape=(24,), dtype=Float32, requires_grad=True),\n",
       " Parameter (name=net.transformer_encoder.blocks.1.attention.dense2.weight, shape=(24, 24), dtype=Float32, requires_grad=True),\n",
       " Parameter (name=net.transformer_encoder.blocks.1.attention.dense2.bias, shape=(24,), dtype=Float32, requires_grad=True),\n",
       " Parameter (name=net.transformer_encoder.blocks.1.attention.dense3.weight, shape=(24, 24), dtype=Float32, requires_grad=True),\n",
       " Parameter (name=net.transformer_encoder.blocks.1.attention.dense3.bias, shape=(24,), dtype=Float32, requires_grad=True),\n",
       " Parameter (name=net.transformer_encoder.blocks.1.output.mapping.weight, shape=(24, 512), dtype=Float32, requires_grad=True),\n",
       " Parameter (name=net.transformer_encoder.blocks.1.output.mapping.bias, shape=(512,), dtype=Float32, requires_grad=True),\n",
       " Parameter (name=net.transformer_encoder.blocks.1.output.projection.weight, shape=(512, 24), dtype=Float32, requires_grad=True),\n",
       " Parameter (name=net.transformer_encoder.blocks.1.output.projection.bias, shape=(24,), dtype=Float32, requires_grad=True),\n",
       " Parameter (name=net.decoder.weight, shape=(1, 24), dtype=Float32, requires_grad=True),\n",
       " Parameter (name=net.decoder.bias, shape=(1,), dtype=Float32, requires_grad=True),\n",
       " Parameter (name=D1.li.0.weight, shape=(512, 70), dtype=Float32, requires_grad=True),\n",
       " Parameter (name=D1.li.0.bias, shape=(512,), dtype=Float32, requires_grad=True),\n",
       " Parameter (name=D1.li.1.gamma, shape=(512,), dtype=Float32, requires_grad=True),\n",
       " Parameter (name=D1.li.1.beta, shape=(512,), dtype=Float32, requires_grad=True),\n",
       " Parameter (name=D1.li.3.weight, shape=(1, 512), dtype=Float32, requires_grad=True),\n",
       " Parameter (name=D1.li.3.bias, shape=(1,), dtype=Float32, requires_grad=True),\n",
       " Parameter (name=D2.li1.weight, shape=(1, 24), dtype=Float32, requires_grad=True),\n",
       " Parameter (name=D2.li1.bias, shape=(1,), dtype=Float32, requires_grad=True),\n",
       " Parameter (name=D2.li2.0.weight, shape=(512, 70), dtype=Float32, requires_grad=True),\n",
       " Parameter (name=D2.li2.0.bias, shape=(512,), dtype=Float32, requires_grad=True),\n",
       " Parameter (name=D2.li2.1.gamma, shape=(512,), dtype=Float32, requires_grad=True),\n",
       " Parameter (name=D2.li2.1.beta, shape=(512,), dtype=Float32, requires_grad=True),\n",
       " Parameter (name=D2.li2.3.weight, shape=(1, 512), dtype=Float32, requires_grad=True),\n",
       " Parameter (name=D2.li2.3.bias, shape=(1,), dtype=Float32, requires_grad=True)]"
      ]
     },
     "execution_count": 28,
     "metadata": {},
     "output_type": "execute_result"
    }
   ],
   "source": [
    "loss_net.trainable_params()"
   ]
  },
  {
   "cell_type": "code",
   "execution_count": 29,
   "metadata": {},
   "outputs": [
    {
     "name": "stdout",
     "output_type": "stream",
     "text": [
      "before model\n"
     ]
    },
    {
     "data": {
      "text/plain": [
       "MywithLossCell<\n",
       "  (net): mymodel<\n",
       "    (pos_encoder): PositionalEncoding<\n",
       "      (dropout): Dropout<keep_prob=0.9>\n",
       "      >\n",
       "    (transformer_encoder): TransformerEncoder<\n",
       "      (blocks): CellList<\n",
       "        (0): TransformerEncoderLayer<\n",
       "          (layernorm1): _LayerNorm<>\n",
       "          (layernorm2): _LayerNorm<>\n",
       "          (attention): MultiHeadAttention<\n",
       "            (projection): _Linear<>\n",
       "            (dropout): Dropout<keep_prob=0.9>\n",
       "            (prob_dropout): Dropout<keep_prob=0.9>\n",
       "            (softmax): Softmax<>\n",
       "            (softmax_3d): Softmax<>\n",
       "            (dense1): _Linear<>\n",
       "            (dense2): _Linear<>\n",
       "            (dense3): _Linear<>\n",
       "            >\n",
       "          (output): FeedForward<\n",
       "            (mapping): _Linear<\n",
       "              (activation): GELU<>\n",
       "              >\n",
       "            (projection): _Linear<>\n",
       "            (dropout): Dropout<keep_prob=0.9>\n",
       "            (dropout_3d): Dropout<keep_prob=0.9>\n",
       "            (dropout_4d): Dropout<keep_prob=0.9>\n",
       "            >\n",
       "          >\n",
       "        (1): TransformerEncoderLayer<\n",
       "          (layernorm1): _LayerNorm<>\n",
       "          (layernorm2): _LayerNorm<>\n",
       "          (attention): MultiHeadAttention<\n",
       "            (projection): _Linear<>\n",
       "            (dropout): Dropout<keep_prob=0.9>\n",
       "            (prob_dropout): Dropout<keep_prob=0.9>\n",
       "            (softmax): Softmax<>\n",
       "            (softmax_3d): Softmax<>\n",
       "            (dense1): _Linear<>\n",
       "            (dense2): _Linear<>\n",
       "            (dense3): _Linear<>\n",
       "            >\n",
       "          (output): FeedForward<\n",
       "            (mapping): _Linear<\n",
       "              (activation): GELU<>\n",
       "              >\n",
       "            (projection): _Linear<>\n",
       "            (dropout): Dropout<keep_prob=0.9>\n",
       "            (dropout_3d): Dropout<keep_prob=0.9>\n",
       "            (dropout_4d): Dropout<keep_prob=0.9>\n",
       "            >\n",
       "          >\n",
       "        >\n",
       "      >\n",
       "    (dropout): Dropout<keep_prob=0.9>\n",
       "    (decoder): Dense<input_channels=24, output_channels=1, has_bias=True>\n",
       "    (trans_mask_generator): AttentionMask<>\n",
       "    >\n",
       "  (D1): Discriminator<\n",
       "    (rev): ReverseGrad<>\n",
       "    (li): SequentialCell<\n",
       "      (0): Dense<input_channels=70, output_channels=512, has_bias=True>\n",
       "      (1): BatchNorm1d<num_features=512, eps=1e-05, momentum=0.9, gamma=Parameter (name=D1.li.1.gamma, shape=(512,), dtype=Float32, requires_grad=True), beta=Parameter (name=D1.li.1.beta, shape=(512,), dtype=Float32, requires_grad=True), moving_mean=Parameter (name=D1.li.1.moving_mean, shape=(512,), dtype=Float32, requires_grad=False), moving_variance=Parameter (name=D1.li.1.moving_variance, shape=(512,), dtype=Float32, requires_grad=False)>\n",
       "      (2): ReLU<>\n",
       "      (3): Dense<input_channels=512, output_channels=1, has_bias=True>\n",
       "      (4): Sigmoid<>\n",
       "      >\n",
       "    >\n",
       "  (D2): backboneDiscriminator<\n",
       "    (rev): ReverseGrad<>\n",
       "    (li1): Dense<input_channels=24, output_channels=1, has_bias=True>\n",
       "    (li2): SequentialCell<\n",
       "      (0): Dense<input_channels=70, output_channels=512, has_bias=True>\n",
       "      (1): BatchNorm1d<num_features=512, eps=1e-05, momentum=0.9, gamma=Parameter (name=D2.li2.1.gamma, shape=(512,), dtype=Float32, requires_grad=True), beta=Parameter (name=D2.li2.1.beta, shape=(512,), dtype=Float32, requires_grad=True), moving_mean=Parameter (name=D2.li2.1.moving_mean, shape=(512,), dtype=Float32, requires_grad=False), moving_variance=Parameter (name=D2.li2.1.moving_variance, shape=(512,), dtype=Float32, requires_grad=False)>\n",
       "      (2): ReLU<>\n",
       "      (3): Dense<input_channels=512, output_channels=1, has_bias=True>\n",
       "      (4): Sigmoid<>\n",
       "      >\n",
       "    >\n",
       "  (loss_fn): MultipleLoss<\n",
       "    (mseLoss): MSELoss<>\n",
       "    (feaLoss): advLoss<\n",
       "      (Loss): BCELoss<>\n",
       "      >\n",
       "    (outLoss): advLoss<\n",
       "      (Loss): BCELoss<>\n",
       "      >\n",
       "    >\n",
       "  >"
      ]
     },
     "execution_count": 29,
     "metadata": {},
     "output_type": "execute_result"
    }
   ],
   "source": [
    "\n",
    "sampler = ds.RandomSampler()\n",
    "dataset = ds.GeneratorDataset(MERGED_DATA(s_data,t_data),sampler=sampler,column_names=['s_input', 's_lb', 's_msk','t_input', 't_msk'])\n",
    "dataset = dataset.batch(batch_size=batch_size,drop_remainder=True)\n",
    "rtl = TupleIterator(dataset)\n",
    "loss_func = MultipleLoss()\n",
    "net = mymodel(max_len=seq_len,batch_size=batch_size)\n",
    "D1 = Discriminator(in_features=seq_len)\n",
    "D2 = backboneDiscriminator(seq_len)\n",
    "loss_net = MywithLossCell(net,D1,D2,loss_func)\n",
    "learning_rate = nn.piecewise_constant_lr([80,160,240],[0.5,0.25,0.125])\n",
    "opt = nn.SGD(net.trainable_params()+D1.trainable_params()+D2.trainable_params()\n",
    "            ,learning_rate=learning_rate)\n",
    "result_eval = {\"mse\": []}\n",
    "eval_cb = EvalCallBack(net, 100, result_eval)\n",
    "summary_collector = SummaryCollector(summary_dir = './RUL/summary_dir',collect_freq=1)\n",
    "print(\"before model\")\n",
    "\n",
    "# model = Model(network=loss_net, optimizer=opt)\n",
    "# FORMAT two dataset into one.\n",
    "\n",
    "\n",
    "loss_net.set_train(True)\n",
    "# model.train(epoch=100, train_dataset=dataset, callbacks=[LossMonitor(per_print_times=10),eval_cb,summary_collector])\n",
    "# model.train(epoch=1000, train_dataset=dataset, callbacks=[LossMonitor(per_print_times=10)])\n"
   ]
  },
  {
   "cell_type": "code",
   "execution_count": 39,
   "metadata": {},
   "outputs": [
    {
     "name": "stderr",
     "output_type": "stream",
     "text": [
      "0it [00:00, ?it/s][ERROR] DEVICE(165792,7f5ff27f4700,python):2023-05-24-11:51:37.331.072 [mindspore/ccsrc/runtime/pynative/async/async_queue.cc:75] WorkerLoop] Run task failed, error msg:The pointer[runtime_info] is null.\n",
      "\n",
      "----------------------------------------------------\n",
      "- C++ Call Stack: (For framework developers)\n",
      "----------------------------------------------------\n",
      "mindspore/ccsrc/runtime/pynative/run_op_helper.cc:534 LaunchKernels\n",
      "\n",
      "[ERROR] DEVICE(165792,7f5ff27f4700,python):2023-05-24-11:51:37.331.212 [mindspore/ccsrc/runtime/pynative/async/async_queue.cc:75] WorkerLoop] Run task failed, error msg:The pointer[runtime_info] is null.\n",
      "\n",
      "----------------------------------------------------\n",
      "- C++ Call Stack: (For framework developers)\n",
      "----------------------------------------------------\n",
      "mindspore/ccsrc/runtime/pynative/run_op_helper.cc:534 LaunchKernels\n",
      "\n",
      "0it [00:00, ?it/s]\n"
     ]
    },
    {
     "ename": "RuntimeError",
     "evalue": "The pointer[runtime_info] is null.\n\n----------------------------------------------------\n- C++ Call Stack: (For framework developers)\n----------------------------------------------------\nmindspore/ccsrc/runtime/pynative/run_op_helper.cc:534 LaunchKernels\n",
     "output_type": "error",
     "traceback": [
      "\u001b[0;31m---------------------------------------------------------------------------\u001b[0m",
      "\u001b[0;31mRuntimeError\u001b[0m                              Traceback (most recent call last)",
      "\u001b[0;32m/tmp/ipykernel_165792/2726353533.py\u001b[0m in \u001b[0;36m<module>\u001b[0;34m\u001b[0m\n\u001b[1;32m     26\u001b[0m \u001b[0;32mfor\u001b[0m \u001b[0mj\u001b[0m \u001b[0;32min\u001b[0m \u001b[0mrange\u001b[0m\u001b[0;34m(\u001b[0m\u001b[0;36m10\u001b[0m\u001b[0;34m)\u001b[0m\u001b[0;34m:\u001b[0m\u001b[0;34m\u001b[0m\u001b[0;34m\u001b[0m\u001b[0m\n\u001b[1;32m     27\u001b[0m     \u001b[0;32mfor\u001b[0m \u001b[0mi\u001b[0m\u001b[0;34m,\u001b[0m\u001b[0md\u001b[0m \u001b[0;32min\u001b[0m \u001b[0mtqdm\u001b[0m\u001b[0;34m(\u001b[0m\u001b[0menumerate\u001b[0m\u001b[0;34m(\u001b[0m\u001b[0mrtl\u001b[0m\u001b[0;34m)\u001b[0m\u001b[0;34m)\u001b[0m\u001b[0;34m:\u001b[0m\u001b[0;34m\u001b[0m\u001b[0;34m\u001b[0m\u001b[0m\n\u001b[0;32m---> 28\u001b[0;31m         \u001b[0mtrain_model\u001b[0m\u001b[0;34m(\u001b[0m\u001b[0md\u001b[0m\u001b[0;34m)\u001b[0m\u001b[0;34m\u001b[0m\u001b[0;34m\u001b[0m\u001b[0m\n\u001b[0m",
      "\u001b[0;32m/usr/local/python-3.7.5/lib/python3.7/site-packages/mindspore/nn/cell.py\u001b[0m in \u001b[0;36m__call__\u001b[0;34m(self, *args, **kwargs)\u001b[0m\n\u001b[1;32m    649\u001b[0m         \u001b[0;32mexcept\u001b[0m \u001b[0mException\u001b[0m \u001b[0;32mas\u001b[0m \u001b[0merr\u001b[0m\u001b[0;34m:\u001b[0m\u001b[0;34m\u001b[0m\u001b[0;34m\u001b[0m\u001b[0m\n\u001b[1;32m    650\u001b[0m             \u001b[0m_pynative_executor\u001b[0m\u001b[0;34m.\u001b[0m\u001b[0mclear_res\u001b[0m\u001b[0;34m(\u001b[0m\u001b[0;34m)\u001b[0m\u001b[0;34m\u001b[0m\u001b[0;34m\u001b[0m\u001b[0m\n\u001b[0;32m--> 651\u001b[0;31m             \u001b[0;32mraise\u001b[0m \u001b[0merr\u001b[0m\u001b[0;34m\u001b[0m\u001b[0;34m\u001b[0m\u001b[0m\n\u001b[0m\u001b[1;32m    652\u001b[0m \u001b[0;34m\u001b[0m\u001b[0m\n\u001b[1;32m    653\u001b[0m         \u001b[0;32mif\u001b[0m \u001b[0misinstance\u001b[0m\u001b[0;34m(\u001b[0m\u001b[0moutput\u001b[0m\u001b[0;34m,\u001b[0m \u001b[0mParameter\u001b[0m\u001b[0;34m)\u001b[0m\u001b[0;34m:\u001b[0m\u001b[0;34m\u001b[0m\u001b[0;34m\u001b[0m\u001b[0m\n",
      "\u001b[0;32m/usr/local/python-3.7.5/lib/python3.7/site-packages/mindspore/nn/cell.py\u001b[0m in \u001b[0;36m__call__\u001b[0;34m(self, *args, **kwargs)\u001b[0m\n\u001b[1;32m    645\u001b[0m         \u001b[0;32mtry\u001b[0m\u001b[0;34m:\u001b[0m\u001b[0;34m\u001b[0m\u001b[0;34m\u001b[0m\u001b[0m\n\u001b[1;32m    646\u001b[0m             \u001b[0m_pynative_executor\u001b[0m\u001b[0;34m.\u001b[0m\u001b[0mnew_graph\u001b[0m\u001b[0;34m(\u001b[0m\u001b[0mself\u001b[0m\u001b[0;34m,\u001b[0m \u001b[0;34m*\u001b[0m\u001b[0margs\u001b[0m\u001b[0;34m,\u001b[0m \u001b[0;34m**\u001b[0m\u001b[0mkwargs\u001b[0m\u001b[0;34m)\u001b[0m\u001b[0;34m\u001b[0m\u001b[0;34m\u001b[0m\u001b[0m\n\u001b[0;32m--> 647\u001b[0;31m             \u001b[0moutput\u001b[0m \u001b[0;34m=\u001b[0m \u001b[0mself\u001b[0m\u001b[0;34m.\u001b[0m\u001b[0m_run_construct\u001b[0m\u001b[0;34m(\u001b[0m\u001b[0margs\u001b[0m\u001b[0;34m,\u001b[0m \u001b[0mkwargs\u001b[0m\u001b[0;34m)\u001b[0m\u001b[0;34m\u001b[0m\u001b[0;34m\u001b[0m\u001b[0m\n\u001b[0m\u001b[1;32m    648\u001b[0m             \u001b[0m_pynative_executor\u001b[0m\u001b[0;34m.\u001b[0m\u001b[0mend_graph\u001b[0m\u001b[0;34m(\u001b[0m\u001b[0mself\u001b[0m\u001b[0;34m,\u001b[0m \u001b[0moutput\u001b[0m\u001b[0;34m,\u001b[0m \u001b[0;34m*\u001b[0m\u001b[0margs\u001b[0m\u001b[0;34m,\u001b[0m \u001b[0;34m**\u001b[0m\u001b[0mkwargs\u001b[0m\u001b[0;34m)\u001b[0m\u001b[0;34m\u001b[0m\u001b[0;34m\u001b[0m\u001b[0m\n\u001b[1;32m    649\u001b[0m         \u001b[0;32mexcept\u001b[0m \u001b[0mException\u001b[0m \u001b[0;32mas\u001b[0m \u001b[0merr\u001b[0m\u001b[0;34m:\u001b[0m\u001b[0;34m\u001b[0m\u001b[0;34m\u001b[0m\u001b[0m\n",
      "\u001b[0;32m/usr/local/python-3.7.5/lib/python3.7/site-packages/mindspore/nn/cell.py\u001b[0m in \u001b[0;36m_run_construct\u001b[0;34m(self, cast_inputs, kwargs)\u001b[0m\n\u001b[1;32m    411\u001b[0m             \u001b[0moutput\u001b[0m \u001b[0;34m=\u001b[0m \u001b[0mself\u001b[0m\u001b[0;34m.\u001b[0m\u001b[0m_shard_fn\u001b[0m\u001b[0;34m(\u001b[0m\u001b[0;34m*\u001b[0m\u001b[0mcast_inputs\u001b[0m\u001b[0;34m,\u001b[0m \u001b[0;34m**\u001b[0m\u001b[0mkwargs\u001b[0m\u001b[0;34m)\u001b[0m\u001b[0;34m\u001b[0m\u001b[0;34m\u001b[0m\u001b[0m\n\u001b[1;32m    412\u001b[0m         \u001b[0;32melse\u001b[0m\u001b[0;34m:\u001b[0m\u001b[0;34m\u001b[0m\u001b[0;34m\u001b[0m\u001b[0m\n\u001b[0;32m--> 413\u001b[0;31m             \u001b[0moutput\u001b[0m \u001b[0;34m=\u001b[0m \u001b[0mself\u001b[0m\u001b[0;34m.\u001b[0m\u001b[0mconstruct\u001b[0m\u001b[0;34m(\u001b[0m\u001b[0;34m*\u001b[0m\u001b[0mcast_inputs\u001b[0m\u001b[0;34m,\u001b[0m \u001b[0;34m**\u001b[0m\u001b[0mkwargs\u001b[0m\u001b[0;34m)\u001b[0m\u001b[0;34m\u001b[0m\u001b[0;34m\u001b[0m\u001b[0m\n\u001b[0m\u001b[1;32m    414\u001b[0m         \u001b[0;32mif\u001b[0m \u001b[0mself\u001b[0m\u001b[0;34m.\u001b[0m\u001b[0m_enable_forward_hook\u001b[0m\u001b[0;34m:\u001b[0m\u001b[0;34m\u001b[0m\u001b[0;34m\u001b[0m\u001b[0m\n\u001b[1;32m    415\u001b[0m             \u001b[0moutput\u001b[0m \u001b[0;34m=\u001b[0m \u001b[0mself\u001b[0m\u001b[0;34m.\u001b[0m\u001b[0m_run_forward_hook\u001b[0m\u001b[0;34m(\u001b[0m\u001b[0mcast_inputs\u001b[0m\u001b[0;34m,\u001b[0m \u001b[0moutput\u001b[0m\u001b[0;34m)\u001b[0m\u001b[0;34m\u001b[0m\u001b[0;34m\u001b[0m\u001b[0m\n",
      "\u001b[0;32m/tmp/ipykernel_165792/2726353533.py\u001b[0m in \u001b[0;36mconstruct\u001b[0;34m(self, data)\u001b[0m\n\u001b[1;32m     16\u001b[0m         \u001b[0;34m\"\"\"构建训练过程\"\"\"\u001b[0m\u001b[0;34m\u001b[0m\u001b[0;34m\u001b[0m\u001b[0m\n\u001b[1;32m     17\u001b[0m         \u001b[0mweights\u001b[0m \u001b[0;34m=\u001b[0m \u001b[0mself\u001b[0m\u001b[0;34m.\u001b[0m\u001b[0mweights\u001b[0m\u001b[0;34m\u001b[0m\u001b[0;34m\u001b[0m\u001b[0m\n\u001b[0;32m---> 18\u001b[0;31m         \u001b[0mloss\u001b[0m \u001b[0;34m=\u001b[0m \u001b[0mself\u001b[0m\u001b[0;34m.\u001b[0m\u001b[0mnetwork\u001b[0m\u001b[0;34m(\u001b[0m\u001b[0mdata\u001b[0m\u001b[0;34m[\u001b[0m\u001b[0;36m0\u001b[0m\u001b[0;34m]\u001b[0m\u001b[0;34m,\u001b[0m\u001b[0mdata\u001b[0m\u001b[0;34m[\u001b[0m\u001b[0;36m1\u001b[0m\u001b[0;34m]\u001b[0m\u001b[0;34m,\u001b[0m\u001b[0mdata\u001b[0m\u001b[0;34m[\u001b[0m\u001b[0;36m2\u001b[0m\u001b[0;34m]\u001b[0m\u001b[0;34m,\u001b[0m\u001b[0mdata\u001b[0m\u001b[0;34m[\u001b[0m\u001b[0;36m3\u001b[0m\u001b[0;34m]\u001b[0m\u001b[0;34m,\u001b[0m\u001b[0mdata\u001b[0m\u001b[0;34m[\u001b[0m\u001b[0;36m4\u001b[0m\u001b[0;34m]\u001b[0m\u001b[0;34m)\u001b[0m\u001b[0;34m\u001b[0m\u001b[0;34m\u001b[0m\u001b[0m\n\u001b[0m\u001b[1;32m     19\u001b[0m         \u001b[0;31m# 为反向传播设定系数\u001b[0m\u001b[0;34m\u001b[0m\u001b[0;34m\u001b[0m\u001b[0;34m\u001b[0m\u001b[0m\n\u001b[1;32m     20\u001b[0m         \u001b[0mgrads\u001b[0m \u001b[0;34m=\u001b[0m \u001b[0mself\u001b[0m\u001b[0;34m.\u001b[0m\u001b[0mgrad\u001b[0m\u001b[0;34m(\u001b[0m\u001b[0mself\u001b[0m\u001b[0;34m.\u001b[0m\u001b[0mnetwork\u001b[0m\u001b[0;34m,\u001b[0m \u001b[0mweights\u001b[0m\u001b[0;34m)\u001b[0m\u001b[0;34m(\u001b[0m\u001b[0mdata\u001b[0m\u001b[0;34m[\u001b[0m\u001b[0;36m0\u001b[0m\u001b[0;34m]\u001b[0m\u001b[0;34m,\u001b[0m\u001b[0mdata\u001b[0m\u001b[0;34m[\u001b[0m\u001b[0;36m1\u001b[0m\u001b[0;34m]\u001b[0m\u001b[0;34m,\u001b[0m\u001b[0mdata\u001b[0m\u001b[0;34m[\u001b[0m\u001b[0;36m2\u001b[0m\u001b[0;34m]\u001b[0m\u001b[0;34m,\u001b[0m\u001b[0mdata\u001b[0m\u001b[0;34m[\u001b[0m\u001b[0;36m3\u001b[0m\u001b[0;34m]\u001b[0m\u001b[0;34m,\u001b[0m\u001b[0mdata\u001b[0m\u001b[0;34m[\u001b[0m\u001b[0;36m4\u001b[0m\u001b[0;34m]\u001b[0m\u001b[0;34m)\u001b[0m\u001b[0;34m\u001b[0m\u001b[0;34m\u001b[0m\u001b[0m\n",
      "\u001b[0;32m/usr/local/python-3.7.5/lib/python3.7/site-packages/mindspore/nn/cell.py\u001b[0m in \u001b[0;36m__call__\u001b[0;34m(self, *args, **kwargs)\u001b[0m\n\u001b[1;32m    649\u001b[0m         \u001b[0;32mexcept\u001b[0m \u001b[0mException\u001b[0m \u001b[0;32mas\u001b[0m \u001b[0merr\u001b[0m\u001b[0;34m:\u001b[0m\u001b[0;34m\u001b[0m\u001b[0;34m\u001b[0m\u001b[0m\n\u001b[1;32m    650\u001b[0m             \u001b[0m_pynative_executor\u001b[0m\u001b[0;34m.\u001b[0m\u001b[0mclear_res\u001b[0m\u001b[0;34m(\u001b[0m\u001b[0;34m)\u001b[0m\u001b[0;34m\u001b[0m\u001b[0;34m\u001b[0m\u001b[0m\n\u001b[0;32m--> 651\u001b[0;31m             \u001b[0;32mraise\u001b[0m \u001b[0merr\u001b[0m\u001b[0;34m\u001b[0m\u001b[0;34m\u001b[0m\u001b[0m\n\u001b[0m\u001b[1;32m    652\u001b[0m \u001b[0;34m\u001b[0m\u001b[0m\n\u001b[1;32m    653\u001b[0m         \u001b[0;32mif\u001b[0m \u001b[0misinstance\u001b[0m\u001b[0;34m(\u001b[0m\u001b[0moutput\u001b[0m\u001b[0;34m,\u001b[0m \u001b[0mParameter\u001b[0m\u001b[0;34m)\u001b[0m\u001b[0;34m:\u001b[0m\u001b[0;34m\u001b[0m\u001b[0;34m\u001b[0m\u001b[0m\n",
      "\u001b[0;32m/usr/local/python-3.7.5/lib/python3.7/site-packages/mindspore/nn/cell.py\u001b[0m in \u001b[0;36m__call__\u001b[0;34m(self, *args, **kwargs)\u001b[0m\n\u001b[1;32m    645\u001b[0m         \u001b[0;32mtry\u001b[0m\u001b[0;34m:\u001b[0m\u001b[0;34m\u001b[0m\u001b[0;34m\u001b[0m\u001b[0m\n\u001b[1;32m    646\u001b[0m             \u001b[0m_pynative_executor\u001b[0m\u001b[0;34m.\u001b[0m\u001b[0mnew_graph\u001b[0m\u001b[0;34m(\u001b[0m\u001b[0mself\u001b[0m\u001b[0;34m,\u001b[0m \u001b[0;34m*\u001b[0m\u001b[0margs\u001b[0m\u001b[0;34m,\u001b[0m \u001b[0;34m**\u001b[0m\u001b[0mkwargs\u001b[0m\u001b[0;34m)\u001b[0m\u001b[0;34m\u001b[0m\u001b[0;34m\u001b[0m\u001b[0m\n\u001b[0;32m--> 647\u001b[0;31m             \u001b[0moutput\u001b[0m \u001b[0;34m=\u001b[0m \u001b[0mself\u001b[0m\u001b[0;34m.\u001b[0m\u001b[0m_run_construct\u001b[0m\u001b[0;34m(\u001b[0m\u001b[0margs\u001b[0m\u001b[0;34m,\u001b[0m \u001b[0mkwargs\u001b[0m\u001b[0;34m)\u001b[0m\u001b[0;34m\u001b[0m\u001b[0;34m\u001b[0m\u001b[0m\n\u001b[0m\u001b[1;32m    648\u001b[0m             \u001b[0m_pynative_executor\u001b[0m\u001b[0;34m.\u001b[0m\u001b[0mend_graph\u001b[0m\u001b[0;34m(\u001b[0m\u001b[0mself\u001b[0m\u001b[0;34m,\u001b[0m \u001b[0moutput\u001b[0m\u001b[0;34m,\u001b[0m \u001b[0;34m*\u001b[0m\u001b[0margs\u001b[0m\u001b[0;34m,\u001b[0m \u001b[0;34m**\u001b[0m\u001b[0mkwargs\u001b[0m\u001b[0;34m)\u001b[0m\u001b[0;34m\u001b[0m\u001b[0;34m\u001b[0m\u001b[0m\n\u001b[1;32m    649\u001b[0m         \u001b[0;32mexcept\u001b[0m \u001b[0mException\u001b[0m \u001b[0;32mas\u001b[0m \u001b[0merr\u001b[0m\u001b[0;34m:\u001b[0m\u001b[0;34m\u001b[0m\u001b[0;34m\u001b[0m\u001b[0m\n",
      "\u001b[0;32m/usr/local/python-3.7.5/lib/python3.7/site-packages/mindspore/nn/cell.py\u001b[0m in \u001b[0;36m_run_construct\u001b[0;34m(self, cast_inputs, kwargs)\u001b[0m\n\u001b[1;32m    411\u001b[0m             \u001b[0moutput\u001b[0m \u001b[0;34m=\u001b[0m \u001b[0mself\u001b[0m\u001b[0;34m.\u001b[0m\u001b[0m_shard_fn\u001b[0m\u001b[0;34m(\u001b[0m\u001b[0;34m*\u001b[0m\u001b[0mcast_inputs\u001b[0m\u001b[0;34m,\u001b[0m \u001b[0;34m**\u001b[0m\u001b[0mkwargs\u001b[0m\u001b[0;34m)\u001b[0m\u001b[0;34m\u001b[0m\u001b[0;34m\u001b[0m\u001b[0m\n\u001b[1;32m    412\u001b[0m         \u001b[0;32melse\u001b[0m\u001b[0;34m:\u001b[0m\u001b[0;34m\u001b[0m\u001b[0;34m\u001b[0m\u001b[0m\n\u001b[0;32m--> 413\u001b[0;31m             \u001b[0moutput\u001b[0m \u001b[0;34m=\u001b[0m \u001b[0mself\u001b[0m\u001b[0;34m.\u001b[0m\u001b[0mconstruct\u001b[0m\u001b[0;34m(\u001b[0m\u001b[0;34m*\u001b[0m\u001b[0mcast_inputs\u001b[0m\u001b[0;34m,\u001b[0m \u001b[0;34m**\u001b[0m\u001b[0mkwargs\u001b[0m\u001b[0;34m)\u001b[0m\u001b[0;34m\u001b[0m\u001b[0;34m\u001b[0m\u001b[0m\n\u001b[0m\u001b[1;32m    414\u001b[0m         \u001b[0;32mif\u001b[0m \u001b[0mself\u001b[0m\u001b[0;34m.\u001b[0m\u001b[0m_enable_forward_hook\u001b[0m\u001b[0;34m:\u001b[0m\u001b[0;34m\u001b[0m\u001b[0;34m\u001b[0m\u001b[0m\n\u001b[1;32m    415\u001b[0m             \u001b[0moutput\u001b[0m \u001b[0;34m=\u001b[0m \u001b[0mself\u001b[0m\u001b[0;34m.\u001b[0m\u001b[0m_run_forward_hook\u001b[0m\u001b[0;34m(\u001b[0m\u001b[0mcast_inputs\u001b[0m\u001b[0;34m,\u001b[0m \u001b[0moutput\u001b[0m\u001b[0;34m)\u001b[0m\u001b[0;34m\u001b[0m\u001b[0;34m\u001b[0m\u001b[0m\n",
      "\u001b[0;32m/tmp/ipykernel_165792/1511908019.py\u001b[0m in \u001b[0;36mconstruct\u001b[0;34m(self, s_input, s_lb, s_msk, t_input, t_msk)\u001b[0m\n\u001b[1;32m     61\u001b[0m \u001b[0;34m\u001b[0m\u001b[0m\n\u001b[1;32m     62\u001b[0m     \u001b[0;32mdef\u001b[0m \u001b[0mconstruct\u001b[0m\u001b[0;34m(\u001b[0m\u001b[0mself\u001b[0m\u001b[0;34m,\u001b[0m\u001b[0ms_input\u001b[0m\u001b[0;34m,\u001b[0m \u001b[0ms_lb\u001b[0m\u001b[0;34m,\u001b[0m\u001b[0ms_msk\u001b[0m\u001b[0;34m,\u001b[0m \u001b[0mt_input\u001b[0m\u001b[0;34m=\u001b[0m\u001b[0;32mNone\u001b[0m\u001b[0;34m,\u001b[0m \u001b[0mt_msk\u001b[0m\u001b[0;34m=\u001b[0m\u001b[0;32mNone\u001b[0m\u001b[0;34m)\u001b[0m\u001b[0;34m:\u001b[0m\u001b[0;34m\u001b[0m\u001b[0;34m\u001b[0m\u001b[0m\n\u001b[0;32m---> 63\u001b[0;31m         \u001b[0ms_features\u001b[0m\u001b[0;34m,\u001b[0m \u001b[0ms_out\u001b[0m \u001b[0;34m=\u001b[0m \u001b[0mself\u001b[0m\u001b[0;34m.\u001b[0m\u001b[0mnet\u001b[0m\u001b[0;34m(\u001b[0m\u001b[0ms_input\u001b[0m\u001b[0;34m,\u001b[0m \u001b[0ms_msk\u001b[0m\u001b[0;34m)\u001b[0m\u001b[0;34m\u001b[0m\u001b[0;34m\u001b[0m\u001b[0m\n\u001b[0m\u001b[1;32m     64\u001b[0m         \u001b[0mt_features\u001b[0m\u001b[0;34m,\u001b[0m \u001b[0mt_out\u001b[0m \u001b[0;34m=\u001b[0m \u001b[0mself\u001b[0m\u001b[0;34m.\u001b[0m\u001b[0mnet\u001b[0m\u001b[0;34m(\u001b[0m\u001b[0mt_input\u001b[0m\u001b[0;34m,\u001b[0m \u001b[0mt_msk\u001b[0m\u001b[0;34m)\u001b[0m\u001b[0;34m\u001b[0m\u001b[0;34m\u001b[0m\u001b[0m\n\u001b[1;32m     65\u001b[0m         \u001b[0ms_out\u001b[0m \u001b[0;34m=\u001b[0m \u001b[0ms_out\u001b[0m\u001b[0;34m.\u001b[0m\u001b[0msqueeze\u001b[0m\u001b[0;34m(\u001b[0m\u001b[0;36m2\u001b[0m\u001b[0;34m)\u001b[0m\u001b[0;34m\u001b[0m\u001b[0;34m\u001b[0m\u001b[0m\n",
      "\u001b[0;32m/usr/local/python-3.7.5/lib/python3.7/site-packages/mindspore/nn/cell.py\u001b[0m in \u001b[0;36m__call__\u001b[0;34m(self, *args, **kwargs)\u001b[0m\n\u001b[1;32m    649\u001b[0m         \u001b[0;32mexcept\u001b[0m \u001b[0mException\u001b[0m \u001b[0;32mas\u001b[0m \u001b[0merr\u001b[0m\u001b[0;34m:\u001b[0m\u001b[0;34m\u001b[0m\u001b[0;34m\u001b[0m\u001b[0m\n\u001b[1;32m    650\u001b[0m             \u001b[0m_pynative_executor\u001b[0m\u001b[0;34m.\u001b[0m\u001b[0mclear_res\u001b[0m\u001b[0;34m(\u001b[0m\u001b[0;34m)\u001b[0m\u001b[0;34m\u001b[0m\u001b[0;34m\u001b[0m\u001b[0m\n\u001b[0;32m--> 651\u001b[0;31m             \u001b[0;32mraise\u001b[0m \u001b[0merr\u001b[0m\u001b[0;34m\u001b[0m\u001b[0;34m\u001b[0m\u001b[0m\n\u001b[0m\u001b[1;32m    652\u001b[0m \u001b[0;34m\u001b[0m\u001b[0m\n\u001b[1;32m    653\u001b[0m         \u001b[0;32mif\u001b[0m \u001b[0misinstance\u001b[0m\u001b[0;34m(\u001b[0m\u001b[0moutput\u001b[0m\u001b[0;34m,\u001b[0m \u001b[0mParameter\u001b[0m\u001b[0;34m)\u001b[0m\u001b[0;34m:\u001b[0m\u001b[0;34m\u001b[0m\u001b[0;34m\u001b[0m\u001b[0m\n",
      "\u001b[0;32m/usr/local/python-3.7.5/lib/python3.7/site-packages/mindspore/nn/cell.py\u001b[0m in \u001b[0;36m__call__\u001b[0;34m(self, *args, **kwargs)\u001b[0m\n\u001b[1;32m    645\u001b[0m         \u001b[0;32mtry\u001b[0m\u001b[0;34m:\u001b[0m\u001b[0;34m\u001b[0m\u001b[0;34m\u001b[0m\u001b[0m\n\u001b[1;32m    646\u001b[0m             \u001b[0m_pynative_executor\u001b[0m\u001b[0;34m.\u001b[0m\u001b[0mnew_graph\u001b[0m\u001b[0;34m(\u001b[0m\u001b[0mself\u001b[0m\u001b[0;34m,\u001b[0m \u001b[0;34m*\u001b[0m\u001b[0margs\u001b[0m\u001b[0;34m,\u001b[0m \u001b[0;34m**\u001b[0m\u001b[0mkwargs\u001b[0m\u001b[0;34m)\u001b[0m\u001b[0;34m\u001b[0m\u001b[0;34m\u001b[0m\u001b[0m\n\u001b[0;32m--> 647\u001b[0;31m             \u001b[0moutput\u001b[0m \u001b[0;34m=\u001b[0m \u001b[0mself\u001b[0m\u001b[0;34m.\u001b[0m\u001b[0m_run_construct\u001b[0m\u001b[0;34m(\u001b[0m\u001b[0margs\u001b[0m\u001b[0;34m,\u001b[0m \u001b[0mkwargs\u001b[0m\u001b[0;34m)\u001b[0m\u001b[0;34m\u001b[0m\u001b[0;34m\u001b[0m\u001b[0m\n\u001b[0m\u001b[1;32m    648\u001b[0m             \u001b[0m_pynative_executor\u001b[0m\u001b[0;34m.\u001b[0m\u001b[0mend_graph\u001b[0m\u001b[0;34m(\u001b[0m\u001b[0mself\u001b[0m\u001b[0;34m,\u001b[0m \u001b[0moutput\u001b[0m\u001b[0;34m,\u001b[0m \u001b[0;34m*\u001b[0m\u001b[0margs\u001b[0m\u001b[0;34m,\u001b[0m \u001b[0;34m**\u001b[0m\u001b[0mkwargs\u001b[0m\u001b[0;34m)\u001b[0m\u001b[0;34m\u001b[0m\u001b[0;34m\u001b[0m\u001b[0m\n\u001b[1;32m    649\u001b[0m         \u001b[0;32mexcept\u001b[0m \u001b[0mException\u001b[0m \u001b[0;32mas\u001b[0m \u001b[0merr\u001b[0m\u001b[0;34m:\u001b[0m\u001b[0;34m\u001b[0m\u001b[0;34m\u001b[0m\u001b[0m\n",
      "\u001b[0;32m/usr/local/python-3.7.5/lib/python3.7/site-packages/mindspore/nn/cell.py\u001b[0m in \u001b[0;36m_run_construct\u001b[0;34m(self, cast_inputs, kwargs)\u001b[0m\n\u001b[1;32m    411\u001b[0m             \u001b[0moutput\u001b[0m \u001b[0;34m=\u001b[0m \u001b[0mself\u001b[0m\u001b[0;34m.\u001b[0m\u001b[0m_shard_fn\u001b[0m\u001b[0;34m(\u001b[0m\u001b[0;34m*\u001b[0m\u001b[0mcast_inputs\u001b[0m\u001b[0;34m,\u001b[0m \u001b[0;34m**\u001b[0m\u001b[0mkwargs\u001b[0m\u001b[0;34m)\u001b[0m\u001b[0;34m\u001b[0m\u001b[0;34m\u001b[0m\u001b[0m\n\u001b[1;32m    412\u001b[0m         \u001b[0;32melse\u001b[0m\u001b[0;34m:\u001b[0m\u001b[0;34m\u001b[0m\u001b[0;34m\u001b[0m\u001b[0m\n\u001b[0;32m--> 413\u001b[0;31m             \u001b[0moutput\u001b[0m \u001b[0;34m=\u001b[0m \u001b[0mself\u001b[0m\u001b[0;34m.\u001b[0m\u001b[0mconstruct\u001b[0m\u001b[0;34m(\u001b[0m\u001b[0;34m*\u001b[0m\u001b[0mcast_inputs\u001b[0m\u001b[0;34m,\u001b[0m \u001b[0;34m**\u001b[0m\u001b[0mkwargs\u001b[0m\u001b[0;34m)\u001b[0m\u001b[0;34m\u001b[0m\u001b[0;34m\u001b[0m\u001b[0m\n\u001b[0m\u001b[1;32m    414\u001b[0m         \u001b[0;32mif\u001b[0m \u001b[0mself\u001b[0m\u001b[0;34m.\u001b[0m\u001b[0m_enable_forward_hook\u001b[0m\u001b[0;34m:\u001b[0m\u001b[0;34m\u001b[0m\u001b[0;34m\u001b[0m\u001b[0m\n\u001b[1;32m    415\u001b[0m             \u001b[0moutput\u001b[0m \u001b[0;34m=\u001b[0m \u001b[0mself\u001b[0m\u001b[0;34m.\u001b[0m\u001b[0m_run_forward_hook\u001b[0m\u001b[0;34m(\u001b[0m\u001b[0mcast_inputs\u001b[0m\u001b[0;34m,\u001b[0m \u001b[0moutput\u001b[0m\u001b[0;34m)\u001b[0m\u001b[0;34m\u001b[0m\u001b[0;34m\u001b[0m\u001b[0m\n",
      "\u001b[0;32m/Domain-Adaptive-Remaining-Useful-Life-Prediction-with-Transformer/RUL/mymodel.py\u001b[0m in \u001b[0;36mconstruct\u001b[0;34m(self, src, attn_msk)\u001b[0m\n\u001b[1;32m    124\u001b[0m         \u001b[0;31m# problem？\u001b[0m\u001b[0;34m\u001b[0m\u001b[0;34m\u001b[0m\u001b[0;34m\u001b[0m\u001b[0m\n\u001b[1;32m    125\u001b[0m         \u001b[0mattn_msk\u001b[0m \u001b[0;34m=\u001b[0m \u001b[0mself\u001b[0m\u001b[0;34m.\u001b[0m\u001b[0mtrans_mask_generator\u001b[0m\u001b[0;34m(\u001b[0m\u001b[0mattn_msk\u001b[0m\u001b[0;34m)\u001b[0m\u001b[0;34m\u001b[0m\u001b[0;34m\u001b[0m\u001b[0m\n\u001b[0;32m--> 126\u001b[0;31m         \u001b[0moutput1\u001b[0m \u001b[0;34m=\u001b[0m \u001b[0mself\u001b[0m\u001b[0;34m.\u001b[0m\u001b[0mtransformer_encoder\u001b[0m\u001b[0;34m(\u001b[0m\u001b[0msrc\u001b[0m\u001b[0;34m,\u001b[0m \u001b[0mattn_msk\u001b[0m\u001b[0;34m)\u001b[0m\u001b[0;34m\u001b[0m\u001b[0;34m\u001b[0m\u001b[0m\n\u001b[0m\u001b[1;32m    127\u001b[0m         \u001b[0;31m# return the multiple result..\u001b[0m\u001b[0;34m\u001b[0m\u001b[0;34m\u001b[0m\u001b[0;34m\u001b[0m\u001b[0m\n\u001b[1;32m    128\u001b[0m         \u001b[0moutput2\u001b[0m \u001b[0;34m=\u001b[0m \u001b[0mself\u001b[0m\u001b[0;34m.\u001b[0m\u001b[0mdecoder\u001b[0m\u001b[0;34m(\u001b[0m\u001b[0moutput1\u001b[0m\u001b[0;34m[\u001b[0m\u001b[0;36m0\u001b[0m\u001b[0;34m]\u001b[0m\u001b[0;34m)\u001b[0m\u001b[0;34m\u001b[0m\u001b[0;34m\u001b[0m\u001b[0m\n",
      "\u001b[0;32m/usr/local/python-3.7.5/lib/python3.7/site-packages/mindspore/nn/cell.py\u001b[0m in \u001b[0;36m__call__\u001b[0;34m(self, *args, **kwargs)\u001b[0m\n\u001b[1;32m    649\u001b[0m         \u001b[0;32mexcept\u001b[0m \u001b[0mException\u001b[0m \u001b[0;32mas\u001b[0m \u001b[0merr\u001b[0m\u001b[0;34m:\u001b[0m\u001b[0;34m\u001b[0m\u001b[0;34m\u001b[0m\u001b[0m\n\u001b[1;32m    650\u001b[0m             \u001b[0m_pynative_executor\u001b[0m\u001b[0;34m.\u001b[0m\u001b[0mclear_res\u001b[0m\u001b[0;34m(\u001b[0m\u001b[0;34m)\u001b[0m\u001b[0;34m\u001b[0m\u001b[0;34m\u001b[0m\u001b[0m\n\u001b[0;32m--> 651\u001b[0;31m             \u001b[0;32mraise\u001b[0m \u001b[0merr\u001b[0m\u001b[0;34m\u001b[0m\u001b[0;34m\u001b[0m\u001b[0m\n\u001b[0m\u001b[1;32m    652\u001b[0m \u001b[0;34m\u001b[0m\u001b[0m\n\u001b[1;32m    653\u001b[0m         \u001b[0;32mif\u001b[0m \u001b[0misinstance\u001b[0m\u001b[0;34m(\u001b[0m\u001b[0moutput\u001b[0m\u001b[0;34m,\u001b[0m \u001b[0mParameter\u001b[0m\u001b[0;34m)\u001b[0m\u001b[0;34m:\u001b[0m\u001b[0;34m\u001b[0m\u001b[0;34m\u001b[0m\u001b[0m\n",
      "\u001b[0;32m/usr/local/python-3.7.5/lib/python3.7/site-packages/mindspore/nn/cell.py\u001b[0m in \u001b[0;36m__call__\u001b[0;34m(self, *args, **kwargs)\u001b[0m\n\u001b[1;32m    645\u001b[0m         \u001b[0;32mtry\u001b[0m\u001b[0;34m:\u001b[0m\u001b[0;34m\u001b[0m\u001b[0;34m\u001b[0m\u001b[0m\n\u001b[1;32m    646\u001b[0m             \u001b[0m_pynative_executor\u001b[0m\u001b[0;34m.\u001b[0m\u001b[0mnew_graph\u001b[0m\u001b[0;34m(\u001b[0m\u001b[0mself\u001b[0m\u001b[0;34m,\u001b[0m \u001b[0;34m*\u001b[0m\u001b[0margs\u001b[0m\u001b[0;34m,\u001b[0m \u001b[0;34m**\u001b[0m\u001b[0mkwargs\u001b[0m\u001b[0;34m)\u001b[0m\u001b[0;34m\u001b[0m\u001b[0;34m\u001b[0m\u001b[0m\n\u001b[0;32m--> 647\u001b[0;31m             \u001b[0moutput\u001b[0m \u001b[0;34m=\u001b[0m \u001b[0mself\u001b[0m\u001b[0;34m.\u001b[0m\u001b[0m_run_construct\u001b[0m\u001b[0;34m(\u001b[0m\u001b[0margs\u001b[0m\u001b[0;34m,\u001b[0m \u001b[0mkwargs\u001b[0m\u001b[0;34m)\u001b[0m\u001b[0;34m\u001b[0m\u001b[0;34m\u001b[0m\u001b[0m\n\u001b[0m\u001b[1;32m    648\u001b[0m             \u001b[0m_pynative_executor\u001b[0m\u001b[0;34m.\u001b[0m\u001b[0mend_graph\u001b[0m\u001b[0;34m(\u001b[0m\u001b[0mself\u001b[0m\u001b[0;34m,\u001b[0m \u001b[0moutput\u001b[0m\u001b[0;34m,\u001b[0m \u001b[0;34m*\u001b[0m\u001b[0margs\u001b[0m\u001b[0;34m,\u001b[0m \u001b[0;34m**\u001b[0m\u001b[0mkwargs\u001b[0m\u001b[0;34m)\u001b[0m\u001b[0;34m\u001b[0m\u001b[0;34m\u001b[0m\u001b[0m\n\u001b[1;32m    649\u001b[0m         \u001b[0;32mexcept\u001b[0m \u001b[0mException\u001b[0m \u001b[0;32mas\u001b[0m \u001b[0merr\u001b[0m\u001b[0;34m:\u001b[0m\u001b[0;34m\u001b[0m\u001b[0;34m\u001b[0m\u001b[0m\n",
      "\u001b[0;32m/usr/local/python-3.7.5/lib/python3.7/site-packages/mindspore/nn/cell.py\u001b[0m in \u001b[0;36m_run_construct\u001b[0;34m(self, cast_inputs, kwargs)\u001b[0m\n\u001b[1;32m    411\u001b[0m             \u001b[0moutput\u001b[0m \u001b[0;34m=\u001b[0m \u001b[0mself\u001b[0m\u001b[0;34m.\u001b[0m\u001b[0m_shard_fn\u001b[0m\u001b[0;34m(\u001b[0m\u001b[0;34m*\u001b[0m\u001b[0mcast_inputs\u001b[0m\u001b[0;34m,\u001b[0m \u001b[0;34m**\u001b[0m\u001b[0mkwargs\u001b[0m\u001b[0;34m)\u001b[0m\u001b[0;34m\u001b[0m\u001b[0;34m\u001b[0m\u001b[0m\n\u001b[1;32m    412\u001b[0m         \u001b[0;32melse\u001b[0m\u001b[0;34m:\u001b[0m\u001b[0;34m\u001b[0m\u001b[0;34m\u001b[0m\u001b[0m\n\u001b[0;32m--> 413\u001b[0;31m             \u001b[0moutput\u001b[0m \u001b[0;34m=\u001b[0m \u001b[0mself\u001b[0m\u001b[0;34m.\u001b[0m\u001b[0mconstruct\u001b[0m\u001b[0;34m(\u001b[0m\u001b[0;34m*\u001b[0m\u001b[0mcast_inputs\u001b[0m\u001b[0;34m,\u001b[0m \u001b[0;34m**\u001b[0m\u001b[0mkwargs\u001b[0m\u001b[0;34m)\u001b[0m\u001b[0;34m\u001b[0m\u001b[0;34m\u001b[0m\u001b[0m\n\u001b[0m\u001b[1;32m    414\u001b[0m         \u001b[0;32mif\u001b[0m \u001b[0mself\u001b[0m\u001b[0;34m.\u001b[0m\u001b[0m_enable_forward_hook\u001b[0m\u001b[0;34m:\u001b[0m\u001b[0;34m\u001b[0m\u001b[0;34m\u001b[0m\u001b[0m\n\u001b[1;32m    415\u001b[0m             \u001b[0moutput\u001b[0m \u001b[0;34m=\u001b[0m \u001b[0mself\u001b[0m\u001b[0;34m.\u001b[0m\u001b[0m_run_forward_hook\u001b[0m\u001b[0;34m(\u001b[0m\u001b[0mcast_inputs\u001b[0m\u001b[0;34m,\u001b[0m \u001b[0moutput\u001b[0m\u001b[0;34m)\u001b[0m\u001b[0;34m\u001b[0m\u001b[0;34m\u001b[0m\u001b[0m\n",
      "\u001b[0;32m/usr/local/python-3.7.5/lib/python3.7/site-packages/mindspore/nn/transformer/transformer.py\u001b[0m in \u001b[0;36mconstruct\u001b[0;34m(self, hidden_states, attention_mask, init_reset, batch_valid_length)\u001b[0m\n\u001b[1;32m   2565\u001b[0m                                                     \u001b[0mattention_mask\u001b[0m\u001b[0;34m,\u001b[0m\u001b[0;34m\u001b[0m\u001b[0;34m\u001b[0m\u001b[0m\n\u001b[1;32m   2566\u001b[0m                                                     \u001b[0minit_reset\u001b[0m\u001b[0;34m,\u001b[0m\u001b[0;34m\u001b[0m\u001b[0;34m\u001b[0m\u001b[0m\n\u001b[0;32m-> 2567\u001b[0;31m                                                     batch_valid_length)\n\u001b[0m\u001b[1;32m   2568\u001b[0m             \u001b[0mpresent_layer\u001b[0m \u001b[0;34m=\u001b[0m \u001b[0mpresent_layer\u001b[0m \u001b[0;34m+\u001b[0m \u001b[0;34m(\u001b[0m\u001b[0mpresent\u001b[0m\u001b[0;34m,\u001b[0m\u001b[0;34m)\u001b[0m\u001b[0;34m\u001b[0m\u001b[0;34m\u001b[0m\u001b[0m\n\u001b[1;32m   2569\u001b[0m \u001b[0;34m\u001b[0m\u001b[0m\n",
      "\u001b[0;32m/usr/local/python-3.7.5/lib/python3.7/site-packages/mindspore/nn/cell.py\u001b[0m in \u001b[0;36m__call__\u001b[0;34m(self, *args, **kwargs)\u001b[0m\n\u001b[1;32m    649\u001b[0m         \u001b[0;32mexcept\u001b[0m \u001b[0mException\u001b[0m \u001b[0;32mas\u001b[0m \u001b[0merr\u001b[0m\u001b[0;34m:\u001b[0m\u001b[0;34m\u001b[0m\u001b[0;34m\u001b[0m\u001b[0m\n\u001b[1;32m    650\u001b[0m             \u001b[0m_pynative_executor\u001b[0m\u001b[0;34m.\u001b[0m\u001b[0mclear_res\u001b[0m\u001b[0;34m(\u001b[0m\u001b[0;34m)\u001b[0m\u001b[0;34m\u001b[0m\u001b[0;34m\u001b[0m\u001b[0m\n\u001b[0;32m--> 651\u001b[0;31m             \u001b[0;32mraise\u001b[0m \u001b[0merr\u001b[0m\u001b[0;34m\u001b[0m\u001b[0;34m\u001b[0m\u001b[0m\n\u001b[0m\u001b[1;32m    652\u001b[0m \u001b[0;34m\u001b[0m\u001b[0m\n\u001b[1;32m    653\u001b[0m         \u001b[0;32mif\u001b[0m \u001b[0misinstance\u001b[0m\u001b[0;34m(\u001b[0m\u001b[0moutput\u001b[0m\u001b[0;34m,\u001b[0m \u001b[0mParameter\u001b[0m\u001b[0;34m)\u001b[0m\u001b[0;34m:\u001b[0m\u001b[0;34m\u001b[0m\u001b[0;34m\u001b[0m\u001b[0m\n",
      "\u001b[0;32m/usr/local/python-3.7.5/lib/python3.7/site-packages/mindspore/nn/cell.py\u001b[0m in \u001b[0;36m__call__\u001b[0;34m(self, *args, **kwargs)\u001b[0m\n\u001b[1;32m    645\u001b[0m         \u001b[0;32mtry\u001b[0m\u001b[0;34m:\u001b[0m\u001b[0;34m\u001b[0m\u001b[0;34m\u001b[0m\u001b[0m\n\u001b[1;32m    646\u001b[0m             \u001b[0m_pynative_executor\u001b[0m\u001b[0;34m.\u001b[0m\u001b[0mnew_graph\u001b[0m\u001b[0;34m(\u001b[0m\u001b[0mself\u001b[0m\u001b[0;34m,\u001b[0m \u001b[0;34m*\u001b[0m\u001b[0margs\u001b[0m\u001b[0;34m,\u001b[0m \u001b[0;34m**\u001b[0m\u001b[0mkwargs\u001b[0m\u001b[0;34m)\u001b[0m\u001b[0;34m\u001b[0m\u001b[0;34m\u001b[0m\u001b[0m\n\u001b[0;32m--> 647\u001b[0;31m             \u001b[0moutput\u001b[0m \u001b[0;34m=\u001b[0m \u001b[0mself\u001b[0m\u001b[0;34m.\u001b[0m\u001b[0m_run_construct\u001b[0m\u001b[0;34m(\u001b[0m\u001b[0margs\u001b[0m\u001b[0;34m,\u001b[0m \u001b[0mkwargs\u001b[0m\u001b[0;34m)\u001b[0m\u001b[0;34m\u001b[0m\u001b[0;34m\u001b[0m\u001b[0m\n\u001b[0m\u001b[1;32m    648\u001b[0m             \u001b[0m_pynative_executor\u001b[0m\u001b[0;34m.\u001b[0m\u001b[0mend_graph\u001b[0m\u001b[0;34m(\u001b[0m\u001b[0mself\u001b[0m\u001b[0;34m,\u001b[0m \u001b[0moutput\u001b[0m\u001b[0;34m,\u001b[0m \u001b[0;34m*\u001b[0m\u001b[0margs\u001b[0m\u001b[0;34m,\u001b[0m \u001b[0;34m**\u001b[0m\u001b[0mkwargs\u001b[0m\u001b[0;34m)\u001b[0m\u001b[0;34m\u001b[0m\u001b[0;34m\u001b[0m\u001b[0m\n\u001b[1;32m    649\u001b[0m         \u001b[0;32mexcept\u001b[0m \u001b[0mException\u001b[0m \u001b[0;32mas\u001b[0m \u001b[0merr\u001b[0m\u001b[0;34m:\u001b[0m\u001b[0;34m\u001b[0m\u001b[0;34m\u001b[0m\u001b[0m\n",
      "\u001b[0;32m/usr/local/python-3.7.5/lib/python3.7/site-packages/mindspore/nn/cell.py\u001b[0m in \u001b[0;36m_run_construct\u001b[0;34m(self, cast_inputs, kwargs)\u001b[0m\n\u001b[1;32m    411\u001b[0m             \u001b[0moutput\u001b[0m \u001b[0;34m=\u001b[0m \u001b[0mself\u001b[0m\u001b[0;34m.\u001b[0m\u001b[0m_shard_fn\u001b[0m\u001b[0;34m(\u001b[0m\u001b[0;34m*\u001b[0m\u001b[0mcast_inputs\u001b[0m\u001b[0;34m,\u001b[0m \u001b[0;34m**\u001b[0m\u001b[0mkwargs\u001b[0m\u001b[0;34m)\u001b[0m\u001b[0;34m\u001b[0m\u001b[0;34m\u001b[0m\u001b[0m\n\u001b[1;32m    412\u001b[0m         \u001b[0;32melse\u001b[0m\u001b[0;34m:\u001b[0m\u001b[0;34m\u001b[0m\u001b[0;34m\u001b[0m\u001b[0m\n\u001b[0;32m--> 413\u001b[0;31m             \u001b[0moutput\u001b[0m \u001b[0;34m=\u001b[0m \u001b[0mself\u001b[0m\u001b[0;34m.\u001b[0m\u001b[0mconstruct\u001b[0m\u001b[0;34m(\u001b[0m\u001b[0;34m*\u001b[0m\u001b[0mcast_inputs\u001b[0m\u001b[0;34m,\u001b[0m \u001b[0;34m**\u001b[0m\u001b[0mkwargs\u001b[0m\u001b[0;34m)\u001b[0m\u001b[0;34m\u001b[0m\u001b[0;34m\u001b[0m\u001b[0m\n\u001b[0m\u001b[1;32m    414\u001b[0m         \u001b[0;32mif\u001b[0m \u001b[0mself\u001b[0m\u001b[0;34m.\u001b[0m\u001b[0m_enable_forward_hook\u001b[0m\u001b[0;34m:\u001b[0m\u001b[0;34m\u001b[0m\u001b[0;34m\u001b[0m\u001b[0m\n\u001b[1;32m    415\u001b[0m             \u001b[0moutput\u001b[0m \u001b[0;34m=\u001b[0m \u001b[0mself\u001b[0m\u001b[0;34m.\u001b[0m\u001b[0m_run_forward_hook\u001b[0m\u001b[0;34m(\u001b[0m\u001b[0mcast_inputs\u001b[0m\u001b[0;34m,\u001b[0m \u001b[0moutput\u001b[0m\u001b[0;34m)\u001b[0m\u001b[0;34m\u001b[0m\u001b[0;34m\u001b[0m\u001b[0m\n",
      "\u001b[0;32m/usr/local/python-3.7.5/lib/python3.7/site-packages/mindspore/nn/transformer/transformer.py\u001b[0m in \u001b[0;36mconstruct\u001b[0;34m(self, x, input_mask, init_reset, batch_valid_length)\u001b[0m\n\u001b[1;32m   1710\u001b[0m \u001b[0;34m\u001b[0m\u001b[0m\n\u001b[1;32m   1711\u001b[0m         attention, layer_present = self.attention(input_x, input_x, input_x, input_mask,\n\u001b[0;32m-> 1712\u001b[0;31m                                                   self.key_past, self.value_past, batch_valid_length)\n\u001b[0m\u001b[1;32m   1713\u001b[0m         \u001b[0;31m# For post-layernorm the inputs for residual path are output of self-attention and output of layernorm\u001b[0m\u001b[0;34m\u001b[0m\u001b[0;34m\u001b[0m\u001b[0;34m\u001b[0m\u001b[0m\n\u001b[1;32m   1714\u001b[0m         \u001b[0;32mif\u001b[0m \u001b[0mself\u001b[0m\u001b[0;34m.\u001b[0m\u001b[0mpost_layernorm_residual\u001b[0m\u001b[0;34m:\u001b[0m\u001b[0;34m\u001b[0m\u001b[0;34m\u001b[0m\u001b[0m\n",
      "\u001b[0;32m/usr/local/python-3.7.5/lib/python3.7/site-packages/mindspore/nn/cell.py\u001b[0m in \u001b[0;36m__call__\u001b[0;34m(self, *args, **kwargs)\u001b[0m\n\u001b[1;32m    649\u001b[0m         \u001b[0;32mexcept\u001b[0m \u001b[0mException\u001b[0m \u001b[0;32mas\u001b[0m \u001b[0merr\u001b[0m\u001b[0;34m:\u001b[0m\u001b[0;34m\u001b[0m\u001b[0;34m\u001b[0m\u001b[0m\n\u001b[1;32m    650\u001b[0m             \u001b[0m_pynative_executor\u001b[0m\u001b[0;34m.\u001b[0m\u001b[0mclear_res\u001b[0m\u001b[0;34m(\u001b[0m\u001b[0;34m)\u001b[0m\u001b[0;34m\u001b[0m\u001b[0;34m\u001b[0m\u001b[0m\n\u001b[0;32m--> 651\u001b[0;31m             \u001b[0;32mraise\u001b[0m \u001b[0merr\u001b[0m\u001b[0;34m\u001b[0m\u001b[0;34m\u001b[0m\u001b[0m\n\u001b[0m\u001b[1;32m    652\u001b[0m \u001b[0;34m\u001b[0m\u001b[0m\n\u001b[1;32m    653\u001b[0m         \u001b[0;32mif\u001b[0m \u001b[0misinstance\u001b[0m\u001b[0;34m(\u001b[0m\u001b[0moutput\u001b[0m\u001b[0;34m,\u001b[0m \u001b[0mParameter\u001b[0m\u001b[0;34m)\u001b[0m\u001b[0;34m:\u001b[0m\u001b[0;34m\u001b[0m\u001b[0;34m\u001b[0m\u001b[0m\n",
      "\u001b[0;32m/usr/local/python-3.7.5/lib/python3.7/site-packages/mindspore/nn/cell.py\u001b[0m in \u001b[0;36m__call__\u001b[0;34m(self, *args, **kwargs)\u001b[0m\n\u001b[1;32m    645\u001b[0m         \u001b[0;32mtry\u001b[0m\u001b[0;34m:\u001b[0m\u001b[0;34m\u001b[0m\u001b[0;34m\u001b[0m\u001b[0m\n\u001b[1;32m    646\u001b[0m             \u001b[0m_pynative_executor\u001b[0m\u001b[0;34m.\u001b[0m\u001b[0mnew_graph\u001b[0m\u001b[0;34m(\u001b[0m\u001b[0mself\u001b[0m\u001b[0;34m,\u001b[0m \u001b[0;34m*\u001b[0m\u001b[0margs\u001b[0m\u001b[0;34m,\u001b[0m \u001b[0;34m**\u001b[0m\u001b[0mkwargs\u001b[0m\u001b[0;34m)\u001b[0m\u001b[0;34m\u001b[0m\u001b[0;34m\u001b[0m\u001b[0m\n\u001b[0;32m--> 647\u001b[0;31m             \u001b[0moutput\u001b[0m \u001b[0;34m=\u001b[0m \u001b[0mself\u001b[0m\u001b[0;34m.\u001b[0m\u001b[0m_run_construct\u001b[0m\u001b[0;34m(\u001b[0m\u001b[0margs\u001b[0m\u001b[0;34m,\u001b[0m \u001b[0mkwargs\u001b[0m\u001b[0;34m)\u001b[0m\u001b[0;34m\u001b[0m\u001b[0;34m\u001b[0m\u001b[0m\n\u001b[0m\u001b[1;32m    648\u001b[0m             \u001b[0m_pynative_executor\u001b[0m\u001b[0;34m.\u001b[0m\u001b[0mend_graph\u001b[0m\u001b[0;34m(\u001b[0m\u001b[0mself\u001b[0m\u001b[0;34m,\u001b[0m \u001b[0moutput\u001b[0m\u001b[0;34m,\u001b[0m \u001b[0;34m*\u001b[0m\u001b[0margs\u001b[0m\u001b[0;34m,\u001b[0m \u001b[0;34m**\u001b[0m\u001b[0mkwargs\u001b[0m\u001b[0;34m)\u001b[0m\u001b[0;34m\u001b[0m\u001b[0;34m\u001b[0m\u001b[0m\n\u001b[1;32m    649\u001b[0m         \u001b[0;32mexcept\u001b[0m \u001b[0mException\u001b[0m \u001b[0;32mas\u001b[0m \u001b[0merr\u001b[0m\u001b[0;34m:\u001b[0m\u001b[0;34m\u001b[0m\u001b[0;34m\u001b[0m\u001b[0m\n",
      "\u001b[0;32m/usr/local/python-3.7.5/lib/python3.7/site-packages/mindspore/nn/cell.py\u001b[0m in \u001b[0;36m_run_construct\u001b[0;34m(self, cast_inputs, kwargs)\u001b[0m\n\u001b[1;32m    411\u001b[0m             \u001b[0moutput\u001b[0m \u001b[0;34m=\u001b[0m \u001b[0mself\u001b[0m\u001b[0;34m.\u001b[0m\u001b[0m_shard_fn\u001b[0m\u001b[0;34m(\u001b[0m\u001b[0;34m*\u001b[0m\u001b[0mcast_inputs\u001b[0m\u001b[0;34m,\u001b[0m \u001b[0;34m**\u001b[0m\u001b[0mkwargs\u001b[0m\u001b[0;34m)\u001b[0m\u001b[0;34m\u001b[0m\u001b[0;34m\u001b[0m\u001b[0m\n\u001b[1;32m    412\u001b[0m         \u001b[0;32melse\u001b[0m\u001b[0;34m:\u001b[0m\u001b[0;34m\u001b[0m\u001b[0;34m\u001b[0m\u001b[0m\n\u001b[0;32m--> 413\u001b[0;31m             \u001b[0moutput\u001b[0m \u001b[0;34m=\u001b[0m \u001b[0mself\u001b[0m\u001b[0;34m.\u001b[0m\u001b[0mconstruct\u001b[0m\u001b[0;34m(\u001b[0m\u001b[0;34m*\u001b[0m\u001b[0mcast_inputs\u001b[0m\u001b[0;34m,\u001b[0m \u001b[0;34m**\u001b[0m\u001b[0mkwargs\u001b[0m\u001b[0;34m)\u001b[0m\u001b[0;34m\u001b[0m\u001b[0;34m\u001b[0m\u001b[0m\n\u001b[0m\u001b[1;32m    414\u001b[0m         \u001b[0;32mif\u001b[0m \u001b[0mself\u001b[0m\u001b[0;34m.\u001b[0m\u001b[0m_enable_forward_hook\u001b[0m\u001b[0;34m:\u001b[0m\u001b[0;34m\u001b[0m\u001b[0;34m\u001b[0m\u001b[0m\n\u001b[1;32m    415\u001b[0m             \u001b[0moutput\u001b[0m \u001b[0;34m=\u001b[0m \u001b[0mself\u001b[0m\u001b[0;34m.\u001b[0m\u001b[0m_run_forward_hook\u001b[0m\u001b[0;34m(\u001b[0m\u001b[0mcast_inputs\u001b[0m\u001b[0;34m,\u001b[0m \u001b[0moutput\u001b[0m\u001b[0;34m)\u001b[0m\u001b[0;34m\u001b[0m\u001b[0;34m\u001b[0m\u001b[0m\n",
      "\u001b[0;32m/usr/local/python-3.7.5/lib/python3.7/site-packages/mindspore/nn/transformer/transformer.py\u001b[0m in \u001b[0;36mconstruct\u001b[0;34m(self, query_tensor, key_tensor, value_tensor, attention_mask, key_past, value_past, batch_valid_length)\u001b[0m\n\u001b[1;32m   1129\u001b[0m         \u001b[0;31m# multi head attention: query, key, value are derived from the same inputs\u001b[0m\u001b[0;34m\u001b[0m\u001b[0;34m\u001b[0m\u001b[0;34m\u001b[0m\u001b[0m\n\u001b[1;32m   1130\u001b[0m         \u001b[0mquery\u001b[0m \u001b[0;34m=\u001b[0m \u001b[0mself\u001b[0m\u001b[0;34m.\u001b[0m\u001b[0mdense1\u001b[0m\u001b[0;34m(\u001b[0m\u001b[0mquery_tensor\u001b[0m\u001b[0;34m)\u001b[0m\u001b[0;34m\u001b[0m\u001b[0;34m\u001b[0m\u001b[0m\n\u001b[0;32m-> 1131\u001b[0;31m         \u001b[0mkey\u001b[0m \u001b[0;34m=\u001b[0m \u001b[0mself\u001b[0m\u001b[0;34m.\u001b[0m\u001b[0mdense2\u001b[0m\u001b[0;34m(\u001b[0m\u001b[0mkey_tensor\u001b[0m\u001b[0;34m)\u001b[0m\u001b[0;34m\u001b[0m\u001b[0;34m\u001b[0m\u001b[0m\n\u001b[0m\u001b[1;32m   1132\u001b[0m         \u001b[0mvalue\u001b[0m \u001b[0;34m=\u001b[0m \u001b[0mself\u001b[0m\u001b[0;34m.\u001b[0m\u001b[0mdense3\u001b[0m\u001b[0;34m(\u001b[0m\u001b[0mvalue_tensor\u001b[0m\u001b[0;34m)\u001b[0m\u001b[0;34m\u001b[0m\u001b[0;34m\u001b[0m\u001b[0m\n\u001b[1;32m   1133\u001b[0m         \u001b[0;31m# the returned shape is [bs, num_heads, seq_length, size_per_head]\u001b[0m\u001b[0;34m\u001b[0m\u001b[0;34m\u001b[0m\u001b[0;34m\u001b[0m\u001b[0m\n",
      "\u001b[0;32m/usr/local/python-3.7.5/lib/python3.7/site-packages/mindspore/nn/cell.py\u001b[0m in \u001b[0;36m__call__\u001b[0;34m(self, *args, **kwargs)\u001b[0m\n\u001b[1;32m    649\u001b[0m         \u001b[0;32mexcept\u001b[0m \u001b[0mException\u001b[0m \u001b[0;32mas\u001b[0m \u001b[0merr\u001b[0m\u001b[0;34m:\u001b[0m\u001b[0;34m\u001b[0m\u001b[0;34m\u001b[0m\u001b[0m\n\u001b[1;32m    650\u001b[0m             \u001b[0m_pynative_executor\u001b[0m\u001b[0;34m.\u001b[0m\u001b[0mclear_res\u001b[0m\u001b[0;34m(\u001b[0m\u001b[0;34m)\u001b[0m\u001b[0;34m\u001b[0m\u001b[0;34m\u001b[0m\u001b[0m\n\u001b[0;32m--> 651\u001b[0;31m             \u001b[0;32mraise\u001b[0m \u001b[0merr\u001b[0m\u001b[0;34m\u001b[0m\u001b[0;34m\u001b[0m\u001b[0m\n\u001b[0m\u001b[1;32m    652\u001b[0m \u001b[0;34m\u001b[0m\u001b[0m\n\u001b[1;32m    653\u001b[0m         \u001b[0;32mif\u001b[0m \u001b[0misinstance\u001b[0m\u001b[0;34m(\u001b[0m\u001b[0moutput\u001b[0m\u001b[0;34m,\u001b[0m \u001b[0mParameter\u001b[0m\u001b[0;34m)\u001b[0m\u001b[0;34m:\u001b[0m\u001b[0;34m\u001b[0m\u001b[0;34m\u001b[0m\u001b[0m\n",
      "\u001b[0;32m/usr/local/python-3.7.5/lib/python3.7/site-packages/mindspore/nn/cell.py\u001b[0m in \u001b[0;36m__call__\u001b[0;34m(self, *args, **kwargs)\u001b[0m\n\u001b[1;32m    645\u001b[0m         \u001b[0;32mtry\u001b[0m\u001b[0;34m:\u001b[0m\u001b[0;34m\u001b[0m\u001b[0;34m\u001b[0m\u001b[0m\n\u001b[1;32m    646\u001b[0m             \u001b[0m_pynative_executor\u001b[0m\u001b[0;34m.\u001b[0m\u001b[0mnew_graph\u001b[0m\u001b[0;34m(\u001b[0m\u001b[0mself\u001b[0m\u001b[0;34m,\u001b[0m \u001b[0;34m*\u001b[0m\u001b[0margs\u001b[0m\u001b[0;34m,\u001b[0m \u001b[0;34m**\u001b[0m\u001b[0mkwargs\u001b[0m\u001b[0;34m)\u001b[0m\u001b[0;34m\u001b[0m\u001b[0;34m\u001b[0m\u001b[0m\n\u001b[0;32m--> 647\u001b[0;31m             \u001b[0moutput\u001b[0m \u001b[0;34m=\u001b[0m \u001b[0mself\u001b[0m\u001b[0;34m.\u001b[0m\u001b[0m_run_construct\u001b[0m\u001b[0;34m(\u001b[0m\u001b[0margs\u001b[0m\u001b[0;34m,\u001b[0m \u001b[0mkwargs\u001b[0m\u001b[0;34m)\u001b[0m\u001b[0;34m\u001b[0m\u001b[0;34m\u001b[0m\u001b[0m\n\u001b[0m\u001b[1;32m    648\u001b[0m             \u001b[0m_pynative_executor\u001b[0m\u001b[0;34m.\u001b[0m\u001b[0mend_graph\u001b[0m\u001b[0;34m(\u001b[0m\u001b[0mself\u001b[0m\u001b[0;34m,\u001b[0m \u001b[0moutput\u001b[0m\u001b[0;34m,\u001b[0m \u001b[0;34m*\u001b[0m\u001b[0margs\u001b[0m\u001b[0;34m,\u001b[0m \u001b[0;34m**\u001b[0m\u001b[0mkwargs\u001b[0m\u001b[0;34m)\u001b[0m\u001b[0;34m\u001b[0m\u001b[0;34m\u001b[0m\u001b[0m\n\u001b[1;32m    649\u001b[0m         \u001b[0;32mexcept\u001b[0m \u001b[0mException\u001b[0m \u001b[0;32mas\u001b[0m \u001b[0merr\u001b[0m\u001b[0;34m:\u001b[0m\u001b[0;34m\u001b[0m\u001b[0;34m\u001b[0m\u001b[0m\n",
      "\u001b[0;32m/usr/local/python-3.7.5/lib/python3.7/site-packages/mindspore/nn/cell.py\u001b[0m in \u001b[0;36m_run_construct\u001b[0;34m(self, cast_inputs, kwargs)\u001b[0m\n\u001b[1;32m    411\u001b[0m             \u001b[0moutput\u001b[0m \u001b[0;34m=\u001b[0m \u001b[0mself\u001b[0m\u001b[0;34m.\u001b[0m\u001b[0m_shard_fn\u001b[0m\u001b[0;34m(\u001b[0m\u001b[0;34m*\u001b[0m\u001b[0mcast_inputs\u001b[0m\u001b[0;34m,\u001b[0m \u001b[0;34m**\u001b[0m\u001b[0mkwargs\u001b[0m\u001b[0;34m)\u001b[0m\u001b[0;34m\u001b[0m\u001b[0;34m\u001b[0m\u001b[0m\n\u001b[1;32m    412\u001b[0m         \u001b[0;32melse\u001b[0m\u001b[0;34m:\u001b[0m\u001b[0;34m\u001b[0m\u001b[0;34m\u001b[0m\u001b[0m\n\u001b[0;32m--> 413\u001b[0;31m             \u001b[0moutput\u001b[0m \u001b[0;34m=\u001b[0m \u001b[0mself\u001b[0m\u001b[0;34m.\u001b[0m\u001b[0mconstruct\u001b[0m\u001b[0;34m(\u001b[0m\u001b[0;34m*\u001b[0m\u001b[0mcast_inputs\u001b[0m\u001b[0;34m,\u001b[0m \u001b[0;34m**\u001b[0m\u001b[0mkwargs\u001b[0m\u001b[0;34m)\u001b[0m\u001b[0;34m\u001b[0m\u001b[0;34m\u001b[0m\u001b[0m\n\u001b[0m\u001b[1;32m    414\u001b[0m         \u001b[0;32mif\u001b[0m \u001b[0mself\u001b[0m\u001b[0;34m.\u001b[0m\u001b[0m_enable_forward_hook\u001b[0m\u001b[0;34m:\u001b[0m\u001b[0;34m\u001b[0m\u001b[0;34m\u001b[0m\u001b[0m\n\u001b[1;32m    415\u001b[0m             \u001b[0moutput\u001b[0m \u001b[0;34m=\u001b[0m \u001b[0mself\u001b[0m\u001b[0;34m.\u001b[0m\u001b[0m_run_forward_hook\u001b[0m\u001b[0;34m(\u001b[0m\u001b[0mcast_inputs\u001b[0m\u001b[0;34m,\u001b[0m \u001b[0moutput\u001b[0m\u001b[0;34m)\u001b[0m\u001b[0;34m\u001b[0m\u001b[0;34m\u001b[0m\u001b[0m\n",
      "\u001b[0;32m/usr/local/python-3.7.5/lib/python3.7/site-packages/mindspore/nn/transformer/layers.py\u001b[0m in \u001b[0;36mconstruct\u001b[0;34m(self, x)\u001b[0m\n\u001b[1;32m    502\u001b[0m         \u001b[0mx\u001b[0m \u001b[0;34m=\u001b[0m \u001b[0mself\u001b[0m\u001b[0;34m.\u001b[0m\u001b[0mmatmul\u001b[0m\u001b[0;34m(\u001b[0m\u001b[0mx\u001b[0m\u001b[0;34m,\u001b[0m \u001b[0mweight\u001b[0m\u001b[0;34m)\u001b[0m\u001b[0;34m\u001b[0m\u001b[0;34m\u001b[0m\u001b[0m\n\u001b[1;32m    503\u001b[0m         \u001b[0;32mif\u001b[0m \u001b[0mself\u001b[0m\u001b[0;34m.\u001b[0m\u001b[0mhas_bias\u001b[0m\u001b[0;34m:\u001b[0m\u001b[0;34m\u001b[0m\u001b[0;34m\u001b[0m\u001b[0m\n\u001b[0;32m--> 504\u001b[0;31m             \u001b[0mx\u001b[0m \u001b[0;34m=\u001b[0m \u001b[0mself\u001b[0m\u001b[0;34m.\u001b[0m\u001b[0mbias_add\u001b[0m\u001b[0;34m(\u001b[0m\u001b[0mx\u001b[0m\u001b[0;34m,\u001b[0m \u001b[0mself\u001b[0m\u001b[0;34m.\u001b[0m\u001b[0mcast\u001b[0m\u001b[0;34m(\u001b[0m\u001b[0mself\u001b[0m\u001b[0;34m.\u001b[0m\u001b[0mbias\u001b[0m\u001b[0;34m,\u001b[0m \u001b[0mself\u001b[0m\u001b[0;34m.\u001b[0m\u001b[0mdtype\u001b[0m\u001b[0;34m)\u001b[0m\u001b[0;34m)\u001b[0m\u001b[0;34m\u001b[0m\u001b[0;34m\u001b[0m\u001b[0m\n\u001b[0m\u001b[1;32m    505\u001b[0m         \u001b[0;32mif\u001b[0m \u001b[0mself\u001b[0m\u001b[0;34m.\u001b[0m\u001b[0mactivation_flag\u001b[0m\u001b[0;34m:\u001b[0m\u001b[0;34m\u001b[0m\u001b[0;34m\u001b[0m\u001b[0m\n\u001b[1;32m    506\u001b[0m             \u001b[0mx\u001b[0m \u001b[0;34m=\u001b[0m \u001b[0mself\u001b[0m\u001b[0;34m.\u001b[0m\u001b[0mactivation\u001b[0m\u001b[0;34m(\u001b[0m\u001b[0mx\u001b[0m\u001b[0;34m)\u001b[0m\u001b[0;34m\u001b[0m\u001b[0;34m\u001b[0m\u001b[0m\n",
      "\u001b[0;32m/usr/local/python-3.7.5/lib/python3.7/site-packages/mindspore/ops/primitive.py\u001b[0m in \u001b[0;36m__call__\u001b[0;34m(self, *args)\u001b[0m\n\u001b[1;32m    314\u001b[0m         \u001b[0;32mif\u001b[0m \u001b[0mshould_elim\u001b[0m\u001b[0;34m:\u001b[0m\u001b[0;34m\u001b[0m\u001b[0;34m\u001b[0m\u001b[0m\n\u001b[1;32m    315\u001b[0m             \u001b[0;32mreturn\u001b[0m \u001b[0moutput\u001b[0m\u001b[0;34m\u001b[0m\u001b[0;34m\u001b[0m\u001b[0m\n\u001b[0;32m--> 316\u001b[0;31m         \u001b[0;32mreturn\u001b[0m \u001b[0m_run_op\u001b[0m\u001b[0;34m(\u001b[0m\u001b[0mself\u001b[0m\u001b[0;34m,\u001b[0m \u001b[0mself\u001b[0m\u001b[0;34m.\u001b[0m\u001b[0mname\u001b[0m\u001b[0;34m,\u001b[0m \u001b[0margs\u001b[0m\u001b[0;34m)\u001b[0m\u001b[0;34m\u001b[0m\u001b[0;34m\u001b[0m\u001b[0m\n\u001b[0m\u001b[1;32m    317\u001b[0m \u001b[0;34m\u001b[0m\u001b[0m\n\u001b[1;32m    318\u001b[0m     \u001b[0;32mdef\u001b[0m \u001b[0m__getstate__\u001b[0m\u001b[0;34m(\u001b[0m\u001b[0mself\u001b[0m\u001b[0;34m)\u001b[0m\u001b[0;34m:\u001b[0m\u001b[0;34m\u001b[0m\u001b[0;34m\u001b[0m\u001b[0m\n",
      "\u001b[0;32m/usr/local/python-3.7.5/lib/python3.7/site-packages/mindspore/common/api.py\u001b[0m in \u001b[0;36mwrapper\u001b[0;34m(*arg, **kwargs)\u001b[0m\n\u001b[1;32m     95\u001b[0m     \u001b[0;34m@\u001b[0m\u001b[0mwraps\u001b[0m\u001b[0;34m(\u001b[0m\u001b[0mfn\u001b[0m\u001b[0;34m)\u001b[0m\u001b[0;34m\u001b[0m\u001b[0;34m\u001b[0m\u001b[0m\n\u001b[1;32m     96\u001b[0m     \u001b[0;32mdef\u001b[0m \u001b[0mwrapper\u001b[0m\u001b[0;34m(\u001b[0m\u001b[0;34m*\u001b[0m\u001b[0marg\u001b[0m\u001b[0;34m,\u001b[0m \u001b[0;34m**\u001b[0m\u001b[0mkwargs\u001b[0m\u001b[0;34m)\u001b[0m\u001b[0;34m:\u001b[0m\u001b[0;34m\u001b[0m\u001b[0;34m\u001b[0m\u001b[0m\n\u001b[0;32m---> 97\u001b[0;31m         \u001b[0mresults\u001b[0m \u001b[0;34m=\u001b[0m \u001b[0mfn\u001b[0m\u001b[0;34m(\u001b[0m\u001b[0;34m*\u001b[0m\u001b[0marg\u001b[0m\u001b[0;34m,\u001b[0m \u001b[0;34m**\u001b[0m\u001b[0mkwargs\u001b[0m\u001b[0;34m)\u001b[0m\u001b[0;34m\u001b[0m\u001b[0;34m\u001b[0m\u001b[0m\n\u001b[0m\u001b[1;32m     98\u001b[0m         \u001b[0;32mreturn\u001b[0m \u001b[0m_convert_python_data\u001b[0m\u001b[0;34m(\u001b[0m\u001b[0mresults\u001b[0m\u001b[0;34m)\u001b[0m\u001b[0;34m\u001b[0m\u001b[0;34m\u001b[0m\u001b[0m\n\u001b[1;32m     99\u001b[0m \u001b[0;34m\u001b[0m\u001b[0m\n",
      "\u001b[0;32m/usr/local/python-3.7.5/lib/python3.7/site-packages/mindspore/ops/primitive.py\u001b[0m in \u001b[0;36m_run_op\u001b[0;34m(obj, op_name, args)\u001b[0m\n\u001b[1;32m    806\u001b[0m \u001b[0;32mdef\u001b[0m \u001b[0m_run_op\u001b[0m\u001b[0;34m(\u001b[0m\u001b[0mobj\u001b[0m\u001b[0;34m,\u001b[0m \u001b[0mop_name\u001b[0m\u001b[0;34m,\u001b[0m \u001b[0margs\u001b[0m\u001b[0;34m)\u001b[0m\u001b[0;34m:\u001b[0m\u001b[0;34m\u001b[0m\u001b[0;34m\u001b[0m\u001b[0m\n\u001b[1;32m    807\u001b[0m     \u001b[0;34m\"\"\"Single op execution function supported by ge in PyNative mode.\"\"\"\u001b[0m\u001b[0;34m\u001b[0m\u001b[0;34m\u001b[0m\u001b[0m\n\u001b[0;32m--> 808\u001b[0;31m     \u001b[0moutput\u001b[0m \u001b[0;34m=\u001b[0m \u001b[0m_pynative_executor\u001b[0m\u001b[0;34m.\u001b[0m\u001b[0mreal_run_op\u001b[0m\u001b[0;34m(\u001b[0m\u001b[0mobj\u001b[0m\u001b[0;34m,\u001b[0m \u001b[0mop_name\u001b[0m\u001b[0;34m,\u001b[0m \u001b[0margs\u001b[0m\u001b[0;34m)\u001b[0m\u001b[0;34m\u001b[0m\u001b[0;34m\u001b[0m\u001b[0m\n\u001b[0m\u001b[1;32m    809\u001b[0m     \u001b[0;32mreturn\u001b[0m \u001b[0moutput\u001b[0m\u001b[0;34m\u001b[0m\u001b[0;34m\u001b[0m\u001b[0m\n",
      "\u001b[0;32m/usr/local/python-3.7.5/lib/python3.7/site-packages/mindspore/common/api.py\u001b[0m in \u001b[0;36mreal_run_op\u001b[0;34m(self, *args)\u001b[0m\n\u001b[1;32m    975\u001b[0m             \u001b[0mTensor\u001b[0m\u001b[0;34m,\u001b[0m \u001b[0mresult\u001b[0m \u001b[0mof\u001b[0m \u001b[0mrun\u001b[0m \u001b[0mop\u001b[0m\u001b[0;34m.\u001b[0m\u001b[0;34m\u001b[0m\u001b[0;34m\u001b[0m\u001b[0m\n\u001b[1;32m    976\u001b[0m         \"\"\"\n\u001b[0;32m--> 977\u001b[0;31m         \u001b[0;32mreturn\u001b[0m \u001b[0mself\u001b[0m\u001b[0;34m.\u001b[0m\u001b[0m_executor\u001b[0m\u001b[0;34m.\u001b[0m\u001b[0mreal_run_op\u001b[0m\u001b[0;34m(\u001b[0m\u001b[0;34m*\u001b[0m\u001b[0margs\u001b[0m\u001b[0;34m)\u001b[0m\u001b[0;34m\u001b[0m\u001b[0;34m\u001b[0m\u001b[0m\n\u001b[0m\u001b[1;32m    978\u001b[0m \u001b[0;34m\u001b[0m\u001b[0m\n\u001b[1;32m    979\u001b[0m     \u001b[0;32mdef\u001b[0m \u001b[0mnew_graph\u001b[0m\u001b[0;34m(\u001b[0m\u001b[0mself\u001b[0m\u001b[0;34m,\u001b[0m \u001b[0mobj\u001b[0m\u001b[0;34m,\u001b[0m \u001b[0;34m*\u001b[0m\u001b[0margs\u001b[0m\u001b[0;34m,\u001b[0m \u001b[0;34m**\u001b[0m\u001b[0mkwargs\u001b[0m\u001b[0;34m)\u001b[0m\u001b[0;34m:\u001b[0m\u001b[0;34m\u001b[0m\u001b[0;34m\u001b[0m\u001b[0m\n",
      "\u001b[0;31mRuntimeError\u001b[0m: The pointer[runtime_info] is null.\n\n----------------------------------------------------\n- C++ Call Stack: (For framework developers)\n----------------------------------------------------\nmindspore/ccsrc/runtime/pynative/run_op_helper.cc:534 LaunchKernels\n"
     ]
    }
   ],
   "source": [
    "\n",
    "# todo:每个epoch的时候进行一次数据的打乱。\n",
    "from mindspore.dataset import TupleIterator,DictIterator\n",
    "rtl = TupleIterator(dataset)\n",
    "class TrainOneStepCell(nn.Cell):\n",
    "    def __init__(self, network, optimizer, sens=1.0):\n",
    "        \"\"\"参数初始化\"\"\"\n",
    "        super(TrainOneStepCell, self).__init__(auto_prefix=False)\n",
    "        self.network = network\n",
    "        # 使用tuple包装weight\n",
    "        self.weights = ParameterTuple(network.trainable_params())\n",
    "        self.optimizer = optimizer\n",
    "        # 定义梯度函数\n",
    "        self.grad = ops.GradOperation(get_by_list=True)\n",
    "\n",
    "    def construct(self, data):\n",
    "        \"\"\"构建训练过程\"\"\"\n",
    "        weights = self.weights\n",
    "        loss = self.network(data[0],data[1],data[2],data[3],data[4])\n",
    "        # 为反向传播设定系数\n",
    "        grads = self.grad(self.network, weights)(data[0],data[1],data[2],data[3],data[4])\n",
    "        return loss, self.optimizer(grads)\n",
    "    \n",
    "train_model = TrainOneStepCell(loss_net,opt)\n",
    "# 重构训练循环：https://gitee.com/mindspore/docs/blob/r2.0.0-alpha/tutorials/application/source_zh_cn/cv/resnet50.ipynb\n",
    "# 参考2：https://www.mindspore.cn/tutorial/zh-CN/r1.2/intermediate/custom/train.html\n",
    "for j in range(10):\n",
    "    for i,d in tqdm(enumerate(rtl)):\n",
    "        train_model(d)"
   ]
  },
  {
   "cell_type": "code",
   "execution_count": 37,
   "metadata": {},
   "outputs": [],
   "source": []
  },
  {
   "cell_type": "code",
   "execution_count": 38,
   "metadata": {},
   "outputs": [
    {
     "name": "stdout",
     "output_type": "stream",
     "text": [
      "[Tensor(shape=[100, 70, 24], dtype=Float32, value=\n",
      "[[[ 6.04650021e-01,  1.53850004e-01,  1.00000000e+00 ...  1.00000000e+00,  8.57140005e-01,  5.12939990e-01],\n",
      "  [ 5.11629999e-01,  6.92309976e-01,  1.00000000e+00 ...  1.00000000e+00,  6.78569973e-01,  7.36800015e-01],\n",
      "  [ 6.91860020e-01,  1.53850004e-01,  1.00000000e+00 ...  1.00000000e+00,  6.36900008e-01,  8.08520019e-01],\n",
      "  ...\n",
      "  [ 0.00000000e+00,  0.00000000e+00,  0.00000000e+00 ...  0.00000000e+00,  0.00000000e+00,  0.00000000e+00],\n",
      "  [ 0.00000000e+00,  0.00000000e+00,  0.00000000e+00 ...  0.00000000e+00,  0.00000000e+00,  0.00000000e+00],\n",
      "  [ 0.00000000e+00,  0.00000000e+00,  0.00000000e+00 ...  0.00000000e+00,  0.00000000e+00,  0.00000000e+00]],\n",
      " [[ 0.00000000e+00,  0.00000000e+00,  0.00000000e+00 ...  0.00000000e+00,  0.00000000e+00,  0.00000000e+00],\n",
      "  [ 5.87210000e-01,  3.07689995e-01,  1.00000000e+00 ...  1.00000000e+00,  5.95239997e-01,  5.24720013e-01],\n",
      "  [ 2.90699989e-01,  9.23080027e-01,  1.00000000e+00 ...  1.00000000e+00,  6.30949974e-01,  6.08680010e-01],\n",
      "  ...\n",
      "  [ 5.00000000e-01,  4.61540014e-01,  1.00000000e+00 ...  1.00000000e+00,  5.71430027e-01,  5.86420000e-01],\n",
      "  [ 5.00000000e-01,  7.69230008e-01,  1.00000000e+00 ...  1.00000000e+00,  3.57140005e-01,  5.31310022e-01],\n",
      "  [ 4.94190007e-01,  6.15379989e-01,  1.00000000e+00 ...  1.00000000e+00,  5.47619998e-01,  6.02750003e-01]],\n",
      " [[ 4.59300011e-01,  3.07689995e-01,  1.00000000e+00 ...  1.00000000e+00,  6.01189971e-01,  5.64620018e-01],\n",
      "  [ 5.34879982e-01,  6.92309976e-01,  1.00000000e+00 ...  1.00000000e+00,  6.60709977e-01,  5.54040015e-01],\n",
      "  [ 6.56979978e-01,  4.61540014e-01,  1.00000000e+00 ...  1.00000000e+00,  5.77380002e-01,  5.41890025e-01],\n",
      "  ...\n",
      "  [ 5.05810022e-01,  1.53850004e-01,  1.00000000e+00 ...  1.00000000e+00,  6.42859995e-01,  6.30580008e-01],\n",
      "  [ 1.10469997e-01,  7.69230008e-01,  1.00000000e+00 ...  1.00000000e+00,  6.07140005e-01,  6.22879982e-01],\n",
      "  [ 4.82560009e-01,  4.61540014e-01,  1.00000000e+00 ...  1.00000000e+00,  6.30949974e-01,  5.84379971e-01]],\n",
      " ...\n",
      " [[ 1.86049998e-01,  6.15379989e-01,  1.00000000e+00 ...  1.00000000e+00,  7.14290023e-01,  6.12389982e-01],\n",
      "  [ 5.00000000e-01,  4.61540014e-01,  1.00000000e+00 ...  1.00000000e+00,  6.60709977e-01,  5.24070024e-01],\n",
      "  [ 4.88370001e-01,  2.30770007e-01,  1.00000000e+00 ...  1.00000000e+00,  6.25000000e-01,  6.52660012e-01],\n",
      "  ...\n",
      "  [ 0.00000000e+00,  0.00000000e+00,  0.00000000e+00 ...  0.00000000e+00,  0.00000000e+00,  0.00000000e+00],\n",
      "  [ 0.00000000e+00,  0.00000000e+00,  0.00000000e+00 ...  0.00000000e+00,  0.00000000e+00,  0.00000000e+00],\n",
      "  [ 0.00000000e+00,  0.00000000e+00,  0.00000000e+00 ...  0.00000000e+00,  0.00000000e+00,  0.00000000e+00]],\n",
      " [[ 0.00000000e+00,  0.00000000e+00,  0.00000000e+00 ...  0.00000000e+00,  0.00000000e+00,  0.00000000e+00],\n",
      "  [ 0.00000000e+00,  0.00000000e+00,  0.00000000e+00 ...  0.00000000e+00,  0.00000000e+00,  0.00000000e+00],\n",
      "  [ 0.00000000e+00,  0.00000000e+00,  0.00000000e+00 ...  0.00000000e+00,  0.00000000e+00,  0.00000000e+00],\n",
      "  ...\n",
      "  [ 4.94190007e-01,  6.92309976e-01,  1.00000000e+00 ...  1.00000000e+00,  6.48810029e-01,  5.52649975e-01],\n",
      "  [ 5.52330017e-01,  5.38460016e-01,  1.00000000e+00 ...  1.00000000e+00,  5.65479994e-01,  5.38179994e-01],\n",
      "  [ 8.02330017e-01,  5.38460016e-01,  1.00000000e+00 ...  1.00000000e+00,  5.53569973e-01,  5.74259996e-01]],\n",
      " [[ 6.45349979e-01,  4.61540014e-01,  1.00000000e+00 ...  1.00000000e+00,  5.89290023e-01,  5.17390013e-01],\n",
      "  [ 5.34879982e-01,  7.69230008e-01,  1.00000000e+00 ...  1.00000000e+00,  5.59520006e-01,  5.59979975e-01],\n",
      "  [ 5.58139980e-01,  3.84620011e-01,  1.00000000e+00 ...  1.00000000e+00,  5.35709977e-01,  6.18420005e-01],\n",
      "  ...\n",
      "  [ 4.30229992e-01,  4.61540014e-01,  1.00000000e+00 ...  1.00000000e+00,  6.01189971e-01,  6.59150004e-01],\n",
      "  [ 4.88370001e-01,  2.30770007e-01,  1.00000000e+00 ...  1.00000000e+00,  5.77380002e-01,  5.42439997e-01],\n",
      "  [ 3.48839998e-01,  2.30770007e-01,  1.00000000e+00 ...  1.00000000e+00,  6.48810029e-01,  4.88079995e-01]]]), Tensor(shape=[100, 70], dtype=Float32, value=\n",
      "[[ 2.69230783e-01,  2.61538476e-01,  2.53846169e-01 ...  0.00000000e+00,  0.00000000e+00,  0.00000000e+00],\n",
      " [ 1.00000000e+00,  1.00000000e+00,  1.00000000e+00 ...  1.00000000e+00,  1.00000000e+00,  1.00000000e+00],\n",
      " [ 1.00000000e+00,  1.00000000e+00,  1.00000000e+00 ...  1.00000000e+00,  1.00000000e+00,  1.00000000e+00],\n",
      " ...\n",
      " [ 4.38461542e-01,  4.30769235e-01,  4.23076928e-01 ...  0.00000000e+00,  0.00000000e+00,  0.00000000e+00],\n",
      " [ 1.00000000e+00,  1.00000000e+00,  1.00000000e+00 ...  1.00000000e+00,  1.00000000e+00,  1.00000000e+00],\n",
      " [ 1.00000000e+00,  1.00000000e+00,  1.00000000e+00 ...  5.38461566e-01,  5.30769229e-01,  5.23076952e-01]]), Tensor(shape=[100, 70], dtype=Float32, value=\n",
      "[[ 0.00000000e+00,  0.00000000e+00,  0.00000000e+00 ...  1.00000000e+00,  1.00000000e+00,  1.00000000e+00],\n",
      " [ 1.00000000e+00,  0.00000000e+00,  0.00000000e+00 ...  0.00000000e+00,  0.00000000e+00,  0.00000000e+00],\n",
      " [ 0.00000000e+00,  0.00000000e+00,  0.00000000e+00 ...  0.00000000e+00,  0.00000000e+00,  0.00000000e+00],\n",
      " ...\n",
      " [ 0.00000000e+00,  0.00000000e+00,  0.00000000e+00 ...  1.00000000e+00,  1.00000000e+00,  1.00000000e+00],\n",
      " [ 1.00000000e+00,  1.00000000e+00,  1.00000000e+00 ...  0.00000000e+00,  0.00000000e+00,  0.00000000e+00],\n",
      " [ 0.00000000e+00,  0.00000000e+00,  0.00000000e+00 ...  0.00000000e+00,  0.00000000e+00,  0.00000000e+00]]), Tensor(shape=[100, 70, 24], dtype=Float32, value=\n",
      "[[[ 0.00000000e+00,  0.00000000e+00,  0.00000000e+00 ...  0.00000000e+00,  0.00000000e+00,  0.00000000e+00],\n",
      "  [ 0.00000000e+00,  0.00000000e+00,  0.00000000e+00 ...  0.00000000e+00,  0.00000000e+00,  0.00000000e+00],\n",
      "  [ 0.00000000e+00,  0.00000000e+00,  0.00000000e+00 ...  0.00000000e+00,  0.00000000e+00,  0.00000000e+00],\n",
      "  ...\n",
      "  [ 2.38069996e-01,  2.96909988e-01,  1.00000000e+00 ...  1.00000000e+00,  6.29289985e-01,  6.39259994e-01],\n",
      "  [ 3.99999990e-05,  0.00000000e+00,  1.00000000e+00 ...  1.00000000e+00,  9.79420006e-01,  9.89170015e-01],\n",
      "  [ 8.33260000e-01,  9.97619987e-01,  1.00000000e+00 ...  1.00000000e+00,  1.53980002e-01,  1.64199993e-01]],\n",
      " [[ 0.00000000e+00,  0.00000000e+00,  0.00000000e+00 ...  0.00000000e+00,  0.00000000e+00,  0.00000000e+00],\n",
      "  [ 2.38030002e-01,  2.97149986e-01,  1.00000000e+00 ...  1.00000000e+00,  6.28939986e-01,  6.28910005e-01],\n",
      "  [ 9.99960005e-01,  9.98340011e-01,  1.00000000e+00 ...  1.00000000e+00,  1.20000001e-02,  1.72000006e-02],\n",
      "  ...\n",
      "  [ 1.99999995e-05,  1.30999996e-03,  1.00000000e+00 ...  1.00000000e+00,  9.87309992e-01,  9.84160006e-01],\n",
      "  [ 5.95120013e-01,  7.36339986e-01,  0.00000000e+00 ...  0.00000000e+00,  1.40949994e-01,  1.47129998e-01],\n",
      "  [ 4.76240009e-01,  8.32899988e-01,  1.00000000e+00 ...  1.00000000e+00,  4.93140012e-01,  4.95260000e-01]],\n",
      " [[ 9.99979973e-01,  9.97619987e-01,  1.00000000e+00 ...  1.00000000e+00,  1.64599996e-02,  2.46799998e-02],\n",
      "  [ 5.95300019e-01,  7.36339986e-01,  0.00000000e+00 ...  0.00000000e+00,  1.44380003e-01,  1.47459999e-01],\n",
      "  [ 9.99870002e-01,  9.97619987e-01,  1.00000000e+00 ...  1.00000000e+00,  1.37200002e-02,  2.07199994e-02],\n",
      "  ...\n",
      "  [ 0.00000000e+00,  0.00000000e+00,  0.00000000e+00 ...  0.00000000e+00,  0.00000000e+00,  0.00000000e+00],\n",
      "  [ 0.00000000e+00,  0.00000000e+00,  0.00000000e+00 ...  0.00000000e+00,  0.00000000e+00,  0.00000000e+00],\n",
      "  [ 0.00000000e+00,  0.00000000e+00,  0.00000000e+00 ...  0.00000000e+00,  0.00000000e+00,  0.00000000e+00]],\n",
      " ...\n",
      " [[ 0.00000000e+00,  0.00000000e+00,  0.00000000e+00 ...  0.00000000e+00,  0.00000000e+00,  0.00000000e+00],\n",
      "  [ 0.00000000e+00,  0.00000000e+00,  0.00000000e+00 ...  0.00000000e+00,  0.00000000e+00,  0.00000000e+00],\n",
      "  [ 0.00000000e+00,  0.00000000e+00,  0.00000000e+00 ...  0.00000000e+00,  0.00000000e+00,  0.00000000e+00],\n",
      "  ...\n",
      "  [ 9.99800026e-01,  9.97619987e-01,  1.00000000e+00 ...  1.00000000e+00,  1.81799997e-02,  2.39400007e-02],\n",
      "  [ 9.99790013e-01,  9.97619987e-01,  1.00000000e+00 ...  1.00000000e+00,  9.60000046e-03,  1.86199993e-02],\n",
      "  [ 9.99830008e-01,  1.00000000e+00,  1.00000000e+00 ...  1.00000000e+00,  1.81799997e-02,  1.95700005e-02]],\n",
      " [[ 0.00000000e+00,  0.00000000e+00,  0.00000000e+00 ...  0.00000000e+00,  0.00000000e+00,  0.00000000e+00],\n",
      "  [ 0.00000000e+00,  0.00000000e+00,  0.00000000e+00 ...  0.00000000e+00,  0.00000000e+00,  0.00000000e+00],\n",
      "  [ 0.00000000e+00,  0.00000000e+00,  0.00000000e+00 ...  0.00000000e+00,  0.00000000e+00,  0.00000000e+00],\n",
      "  ...\n",
      "  [ 8.33150029e-01,  9.97619987e-01,  1.00000000e+00 ...  1.00000000e+00,  1.65289998e-01,  1.58749998e-01],\n",
      "  [ 8.33270013e-01,  9.97619987e-01,  1.00000000e+00 ...  1.00000000e+00,  1.61520004e-01,  1.66329995e-01],\n",
      "  [ 4.76080000e-01,  8.31350029e-01,  1.00000000e+00 ...  1.00000000e+00,  4.85599995e-01,  4.90570009e-01]],\n",
      " [[ 4.76069987e-01,  8.33369970e-01,  1.00000000e+00 ...  1.00000000e+00,  4.89369988e-01,  4.92240012e-01],\n",
      "  [ 8.33350003e-01,  9.97979999e-01,  1.00000000e+00 ...  1.00000000e+00,  1.61870003e-01,  1.65649995e-01],\n",
      "  [ 9.99949992e-01,  9.97739971e-01,  1.00000000e+00 ...  1.00000000e+00,  7.54000014e-03,  2.33200006e-02],\n",
      "  ...\n",
      "  [ 0.00000000e+00,  0.00000000e+00,  0.00000000e+00 ...  0.00000000e+00,  0.00000000e+00,  0.00000000e+00],\n",
      "  [ 0.00000000e+00,  0.00000000e+00,  0.00000000e+00 ...  0.00000000e+00,  0.00000000e+00,  0.00000000e+00],\n",
      "  [ 0.00000000e+00,  0.00000000e+00,  0.00000000e+00 ...  0.00000000e+00,  0.00000000e+00,  0.00000000e+00]]]), Tensor(shape=[100, 70], dtype=Float32, value=\n",
      "[[ 1.00000000e+00,  1.00000000e+00,  1.00000000e+00 ...  0.00000000e+00,  0.00000000e+00,  0.00000000e+00],\n",
      " [ 1.00000000e+00,  0.00000000e+00,  0.00000000e+00 ...  0.00000000e+00,  0.00000000e+00,  0.00000000e+00],\n",
      " [ 0.00000000e+00,  0.00000000e+00,  0.00000000e+00 ...  1.00000000e+00,  1.00000000e+00,  1.00000000e+00],\n",
      " ...\n",
      " [ 1.00000000e+00,  1.00000000e+00,  1.00000000e+00 ...  0.00000000e+00,  0.00000000e+00,  0.00000000e+00],\n",
      " [ 1.00000000e+00,  1.00000000e+00,  1.00000000e+00 ...  0.00000000e+00,  0.00000000e+00,  0.00000000e+00],\n",
      " [ 0.00000000e+00,  0.00000000e+00,  0.00000000e+00 ...  1.00000000e+00,  1.00000000e+00,  1.00000000e+00]])]\n"
     ]
    }
   ],
   "source": []
  },
  {
   "cell_type": "code",
   "execution_count": 41,
   "metadata": {},
   "outputs": [
    {
     "ename": "TypeError",
     "evalue": "can't multiply sequence by non-int of type 'float'",
     "output_type": "error",
     "traceback": [
      "\u001b[0;31m---------------------------------------------------------------------------\u001b[0m",
      "\u001b[0;31mTypeError\u001b[0m                                 Traceback (most recent call last)",
      "\u001b[0;32m/tmp/ipykernel_165792/2021386286.py\u001b[0m in \u001b[0;36m<module>\u001b[0;34m\u001b[0m\n\u001b[0;32m----> 1\u001b[0;31m \u001b[0;36m0.1\u001b[0m\u001b[0;34m*\u001b[0m\u001b[0;34m[\u001b[0m\u001b[0;36m1.0\u001b[0m\u001b[0;34m,\u001b[0m\u001b[0;36m0.5\u001b[0m\u001b[0;34m]\u001b[0m\u001b[0;34m\u001b[0m\u001b[0;34m\u001b[0m\u001b[0m\n\u001b[0m",
      "\u001b[0;31mTypeError\u001b[0m: can't multiply sequence by non-int of type 'float'"
     ]
    }
   ],
   "source": [
    "[1.0,0.5]"
   ]
  },
  {
   "cell_type": "code",
   "execution_count": null,
   "metadata": {},
   "outputs": [],
   "source": []
  }
 ],
 "metadata": {
  "kernelspec": {
   "display_name": "Python 3",
   "language": "python",
   "name": "python3"
  },
  "language_info": {
   "codemirror_mode": {
    "name": "ipython",
    "version": 3
   },
   "file_extension": ".py",
   "mimetype": "text/x-python",
   "name": "python",
   "nbconvert_exporter": "python",
   "pygments_lexer": "ipython3",
   "version": "3.7.5"
  },
  "orig_nbformat": 4
 },
 "nbformat": 4,
 "nbformat_minor": 2
}
