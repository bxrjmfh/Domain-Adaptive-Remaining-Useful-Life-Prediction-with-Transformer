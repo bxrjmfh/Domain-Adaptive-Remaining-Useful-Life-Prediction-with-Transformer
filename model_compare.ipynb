{
 "cells": [
  {
   "cell_type": "code",
   "execution_count": 3,
   "metadata": {},
   "outputs": [],
   "source": [
    "from dataset import TRANSFORMER_ALL_DATA, TRANSFORMERDATA\n",
    "from loss import advLoss\n",
    "from model import *\n",
    "from torch.utils.data import DataLoader, random_split\n",
    "import argparse\n",
    "import itertools\n",
    "import matplotlib.pyplot as plt\n",
    "import numpy as np\n",
    "import os\n",
    "import random\n",
    "import time\n",
    "import torch\n",
    "import torch.nn as nn\n",
    "from tqdm import tqdm\n",
    "# def my own train\n",
    "seed = 0\n",
    "torch.manual_seed(seed)            \n",
    "torch.cuda.manual_seed(seed)       \n",
    "torch.cuda.manual_seed_all(seed)    \n",
    "random.seed(seed)\n",
    "np.random.seed(seed)\n",
    "Rc = 130\n",
    "\n",
    "data_root = \"CMAPSS/units/\"\n",
    "label_root = \"CMAPSS/labels/\"\n",
    "seq_len = 70\n",
    "target= 'FD002'\n",
    "source = 'FD003'\n",
    "epoches = 240\n",
    "os.chdir('/Domain-Adaptive-Remaining-Useful-Life-Prediction-with-Transformer/')\n",
    "batch_size = 100\n",
    "a = 0.1\n",
    "b = 0.5"
   ]
  },
  {
   "cell_type": "code",
   "execution_count": 4,
   "metadata": {},
   "outputs": [],
   "source": [
    "#  compare data\n",
    "source_list = np.loadtxt(\"save/\"+source+\"/train\"+source+\".txt\", dtype=str).tolist()\n",
    "target_list = np.loadtxt(\"save/\"+target+\"/train\"+target+\".txt\", dtype=str).tolist()\n",
    "valid_list = np.loadtxt(\"save/\"+target+\"/test\"+target+\".txt\", dtype=str).tolist()\n",
    "# v_list with 47 files\n",
    "a_list = np.loadtxt(\"save/\"+target+\"/valid\"+target+\".txt\", dtype=str).tolist()\n",
    "# a_list with 31 item of validation set item\n",
    "target_test_names = valid_list + a_list\n",
    "# 78 files in targetlist....\n",
    "minl = min(len(source_list), len(target_list))\n",
    "s_data = TRANSFORMER_ALL_DATA(source_list, seq_len)\n",
    "t_data = TRANSFORMER_ALL_DATA(target_list, seq_len)\n",
    "t_data_test = TRANSFORMER_ALL_DATA(target_test_names, seq_len)"
   ]
  },
  {
   "cell_type": "code",
   "execution_count": 5,
   "metadata": {},
   "outputs": [
    {
     "name": "stdout",
     "output_type": "stream",
     "text": [
      "tensor(0.0097)\n",
      "tensor(0.0072)\n",
      "tensor([[0.0000, 0.0000, 0.0000,  ..., 0.0000, 0.0000, 0.0000],\n",
      "        [0.0000, 0.0000, 0.0000,  ..., 0.0000, 0.0000, 0.0000],\n",
      "        [0.0000, 0.0000, 0.0000,  ..., 0.0000, 0.0000, 0.0000],\n",
      "        ...,\n",
      "        [0.0000, 0.0000, 0.0000,  ..., 0.0000, 0.0000, 0.0000],\n",
      "        [0.0000, 0.0000, 0.0000,  ..., 0.0000, 0.0000, 0.0000],\n",
      "        [0.2380, 0.2971, 1.0000,  ..., 1.0000, 0.6289, 0.6289]])\n",
      "tensor(1.)\n",
      "tensor(0.)\n",
      "tensor([1., 1., 1., 1., 1., 1., 1., 1., 1., 1., 1., 1., 1., 1., 1., 1., 1., 1.,\n",
      "        1., 1., 1., 1., 1., 1., 1., 1., 1., 1., 1., 1., 1., 1., 1., 1., 1., 1.,\n",
      "        1., 1., 1., 1., 1., 1., 1., 1., 1., 1., 1., 1., 1., 1., 1., 1., 1., 1.,\n",
      "        1., 1., 1., 1., 1., 1., 1., 1., 1., 1., 1., 1., 1., 1., 1., 1.])\n",
      "tensor(0.9857)\n",
      "tensor(0.0143)\n",
      "tensor([1., 1., 1., 1., 1., 1., 1., 1., 1., 1., 1., 1., 1., 1., 1., 1., 1., 1.,\n",
      "        1., 1., 1., 1., 1., 1., 1., 1., 1., 1., 1., 1., 1., 1., 1., 1., 1., 1.,\n",
      "        1., 1., 1., 1., 1., 1., 1., 1., 1., 1., 1., 1., 1., 1., 1., 1., 1., 1.,\n",
      "        1., 1., 1., 1., 1., 1., 1., 1., 1., 1., 1., 1., 1., 1., 1., 0.])\n"
     ]
    },
    {
     "data": {
      "text/plain": [
       "70"
      ]
     },
     "execution_count": 5,
     "metadata": {},
     "output_type": "execute_result"
    }
   ],
   "source": [
    "len(s_data)\n",
    "l= t_data[0]\n",
    "for feature in l:\n",
    "    print(Tensor.mean(feature))\n",
    "    print(Tensor.var(feature))\n",
    "    print(feature)\n",
    "len(l[2])"
   ]
  },
  {
   "cell_type": "code",
   "execution_count": 6,
   "metadata": {},
   "outputs": [
    {
     "data": {
      "text/plain": [
       "'FD003-56.txt'"
      ]
     },
     "execution_count": 6,
     "metadata": {},
     "output_type": "execute_result"
    }
   ],
   "source": [
    "source_list[0]"
   ]
  },
  {
   "cell_type": "code",
   "execution_count": 7,
   "metadata": {},
   "outputs": [],
   "source": [
    "#  check detail of dataset\n",
    "batch_size = 100\n",
    "s_iter = iter(DataLoader(s_data, batch_size=batch_size, shuffle=False))\n",
    "t_iter = iter(DataLoader(t_data, batch_size=batch_size, shuffle=False))"
   ]
  },
  {
   "cell_type": "code",
   "execution_count": 20,
   "metadata": {},
   "outputs": [
    {
     "data": {
      "text/plain": [
       "215"
      ]
     },
     "execution_count": 20,
     "metadata": {},
     "output_type": "execute_result"
    }
   ],
   "source": [
    "len(s_iter)"
   ]
  },
  {
   "cell_type": "code",
   "execution_count": 21,
   "metadata": {},
   "outputs": [
    {
     "data": {
      "text/plain": [
       "21489"
      ]
     },
     "execution_count": 21,
     "metadata": {},
     "output_type": "execute_result"
    }
   ],
   "source": [
    "len(s_data)"
   ]
  },
  {
   "cell_type": "code",
   "execution_count": 8,
   "metadata": {},
   "outputs": [],
   "source": [
    "s_d = next(s_iter)\n",
    "t_d = next(t_iter)"
   ]
  },
  {
   "cell_type": "code",
   "execution_count": 9,
   "metadata": {},
   "outputs": [
    {
     "name": "stdout",
     "output_type": "stream",
     "text": [
      "3\n",
      "100\n",
      "torch.Size([100, 70])\n"
     ]
    },
    {
     "data": {
      "text/plain": [
       "torch.Tensor"
      ]
     },
     "execution_count": 9,
     "metadata": {},
     "output_type": "execute_result"
    }
   ],
   "source": [
    "print(len(s_d))\n",
    "print(len(s_d[2]))\n",
    "print(s_d[2].shape)\n",
    "# print((s_d[0][0] - sf).sum())\n",
    "type(s_d[2])"
   ]
  },
  {
   "cell_type": "code",
   "execution_count": 10,
   "metadata": {},
   "outputs": [
    {
     "data": {
      "text/plain": [
       "dataset.TRANSFORMER_ALL_DATA"
      ]
     },
     "execution_count": 10,
     "metadata": {},
     "output_type": "execute_result"
    }
   ],
   "source": [
    "type(s_data)"
   ]
  },
  {
   "cell_type": "code",
   "execution_count": 11,
   "metadata": {},
   "outputs": [],
   "source": [
    "# test model output\n",
    "net = mymodel(max_len=seq_len)\n",
    "sf,sm,sl = s_data[0]"
   ]
  },
  {
   "cell_type": "code",
   "execution_count": 12,
   "metadata": {},
   "outputs": [
    {
     "data": {
      "text/plain": [
       "tensor([0., 0., 0., 0., 0., 0., 0., 0., 0., 0., 0., 0., 0., 0., 0., 0., 0., 0., 0., 0., 0., 0., 0., 0.])"
      ]
     },
     "execution_count": 12,
     "metadata": {},
     "output_type": "execute_result"
    }
   ],
   "source": [
    "len(sf)\n",
    "sf[0]"
   ]
  },
  {
   "cell_type": "code",
   "execution_count": 13,
   "metadata": {},
   "outputs": [],
   "source": [
    "\n",
    "sf = sf.unsqueeze(0)\n",
    "sl = sl.unsqueeze(0)\n",
    "sm = sm.unsqueeze(0)\n",
    "o1,o2 = net(sf,sm)"
   ]
  },
  {
   "cell_type": "code",
   "execution_count": 14,
   "metadata": {},
   "outputs": [
    {
     "data": {
      "text/plain": [
       "torch.Size([1, 70, 24])"
      ]
     },
     "execution_count": 14,
     "metadata": {},
     "output_type": "execute_result"
    }
   ],
   "source": [
    "o1.shape"
   ]
  },
  {
   "cell_type": "code",
   "execution_count": 15,
   "metadata": {},
   "outputs": [
    {
     "data": {
      "text/plain": [
       "tensor([[[ 3.7776e-02],\n",
       "         [ 2.0524e-01],\n",
       "         [ 3.1993e-01],\n",
       "         [ 2.6842e-01],\n",
       "         [ 5.6817e-01],\n",
       "         [ 1.0271e-01],\n",
       "         [-2.8446e-02],\n",
       "         [ 2.3681e-01],\n",
       "         [-1.5536e-01],\n",
       "         [ 1.0356e-01],\n",
       "         [ 1.3156e-01],\n",
       "         [ 2.0401e-02],\n",
       "         [ 2.5028e-01],\n",
       "         [ 1.2599e-01],\n",
       "         [ 4.0941e-01],\n",
       "         [ 2.4081e-01],\n",
       "         [ 5.2443e-01],\n",
       "         [ 2.5499e-01],\n",
       "         [ 1.5482e-01],\n",
       "         [ 6.3721e-01],\n",
       "         [ 4.2785e-01],\n",
       "         [ 3.9672e-01],\n",
       "         [ 3.9084e-01],\n",
       "         [ 4.3673e-01],\n",
       "         [ 3.6688e-01],\n",
       "         [ 1.4496e-01],\n",
       "         [ 2.6291e-01],\n",
       "         [ 1.5641e-01],\n",
       "         [ 5.6852e-01],\n",
       "         [ 4.7181e-01],\n",
       "         [ 2.6387e-01],\n",
       "         [-8.6811e-02],\n",
       "         [ 9.1588e-02],\n",
       "         [-3.5293e-01],\n",
       "         [-1.3847e-01],\n",
       "         [-1.1308e-01],\n",
       "         [-2.7357e-02],\n",
       "         [-1.0959e-01],\n",
       "         [-1.7909e-01],\n",
       "         [-2.6981e-01],\n",
       "         [-5.1335e-02],\n",
       "         [ 9.3562e-02],\n",
       "         [-6.4843e-02],\n",
       "         [ 7.0786e-02],\n",
       "         [ 1.9275e-01],\n",
       "         [ 3.8322e-01],\n",
       "         [-3.9886e-02],\n",
       "         [ 2.2470e-01],\n",
       "         [ 1.2036e-01],\n",
       "         [ 7.7897e-02],\n",
       "         [-1.8313e-01],\n",
       "         [ 3.3337e-04],\n",
       "         [ 1.1085e-01],\n",
       "         [ 2.7799e-01],\n",
       "         [ 4.7590e-01],\n",
       "         [ 1.8556e-01],\n",
       "         [ 1.4487e-01],\n",
       "         [-5.4882e-02],\n",
       "         [ 1.5299e-01],\n",
       "         [-1.5391e-01],\n",
       "         [ 1.8529e-01],\n",
       "         [-3.5588e-02],\n",
       "         [-1.5069e-01],\n",
       "         [-1.4127e-01],\n",
       "         [-3.3437e-01],\n",
       "         [-4.1822e-01],\n",
       "         [-1.1147e-01],\n",
       "         [ 1.7587e-01],\n",
       "         [ 2.1380e-01],\n",
       "         [ 8.2818e-02]]], grad_fn=<AddBackward0>)"
      ]
     },
     "execution_count": 15,
     "metadata": {},
     "output_type": "execute_result"
    }
   ],
   "source": [
    "o2"
   ]
  },
  {
   "cell_type": "code",
   "execution_count": 16,
   "metadata": {},
   "outputs": [
    {
     "data": {
      "text/plain": [
       "torch.Size([1, 70, 24])"
      ]
     },
     "execution_count": 16,
     "metadata": {},
     "output_type": "execute_result"
    }
   ],
   "source": [
    "o1.shape"
   ]
  },
  {
   "cell_type": "code",
   "execution_count": 17,
   "metadata": {},
   "outputs": [
    {
     "data": {
      "text/plain": [
       "tensor([[[-1.6653, -0.0533, -0.0469,  ...,  0.9081, -0.3176,  0.8180],\n",
       "         [-0.4419, -1.5840,  0.0000,  ...,  1.3871, -0.0892,  0.9407],\n",
       "         [-1.6055, -1.8214,  0.8913,  ..., -0.4419,  0.1452,  0.6301],\n",
       "         ...,\n",
       "         [-2.4871, -1.6600, -0.6493,  ...,  0.8330, -0.2036,  0.0000],\n",
       "         [-2.6875, -0.4647,  1.1753,  ...,  0.2619, -0.6457,  1.6955],\n",
       "         [-1.6099, -0.0000,  0.0000,  ...,  1.2234, -1.2426,  1.2773]]],\n",
       "       grad_fn=<MulBackward0>)"
      ]
     },
     "execution_count": 17,
     "metadata": {},
     "output_type": "execute_result"
    }
   ],
   "source": [
    "o1"
   ]
  },
  {
   "cell_type": "code",
   "execution_count": 18,
   "metadata": {},
   "outputs": [
    {
     "data": {
      "text/plain": [
       "tensor(0.0062, grad_fn=<MeanBackward0>)"
      ]
     },
     "execution_count": 18,
     "metadata": {},
     "output_type": "execute_result"
    }
   ],
   "source": [
    "Tensor.mean(o1)"
   ]
  },
  {
   "cell_type": "code",
   "execution_count": 19,
   "metadata": {},
   "outputs": [
    {
     "data": {
      "text/plain": [
       "tensor(1.1252, grad_fn=<VarBackward0>)"
      ]
     },
     "execution_count": 19,
     "metadata": {},
     "output_type": "execute_result"
    }
   ],
   "source": [
    "Tensor.var(o1)"
   ]
  },
  {
   "cell_type": "code",
   "execution_count": 30,
   "metadata": {},
   "outputs": [
    {
     "data": {
      "text/plain": [
       "True"
      ]
     },
     "execution_count": 30,
     "metadata": {},
     "output_type": "execute_result"
    }
   ],
   "source": [
    "net.training"
   ]
  },
  {
   "cell_type": "code",
   "execution_count": null,
   "metadata": {},
   "outputs": [],
   "source": [
    "\n",
    "def validate():\n",
    "    net.eval()\n",
    "    tot = 0\n",
    "    with torch.no_grad():\n",
    "        for i in target_test_names:\n",
    "            pred_sum, pred_cnt = torch.zeros(800), torch.zeros(800)\n",
    "            # 记录结果 （800维？）\n",
    "            valid_data = TRANSFORMERDATA(i, seq_len)\n",
    "            # 变换一项结果\n",
    "            data_len = len(valid_data)\n",
    "            valid_loader = DataLoader(valid_data, batch_size=1000)\n",
    "            # 参考train中dataloader进行改造\n",
    "            valid_iter = iter(valid_loader)\n",
    "            d = next(valid_iter)\n",
    "            # 迭代\n",
    "            input, lbl, msk = d[0], d[1], d[2]\n",
    "            input, msk = input.cuda(), msk.cuda()\n",
    "            _, out = net(input, msk)\n",
    "            # 输出结果，out 就是decoder的输出\n",
    "            out = out.squeeze(2).cpu()\n",
    "            for j in range(data_len):\n",
    "                if j < seq_len-1:\n",
    "                    pred_sum[:j+1] += out[j, -(j+1):]\n",
    "                    pred_cnt[:j+1] += 1\n",
    "                elif j <= data_len-seq_len:\n",
    "                    pred_sum[j-seq_len+1:j+1] += out[j]\n",
    "                    pred_cnt[j-seq_len+1:j+1] += 1\n",
    "                else:\n",
    "                    pred_sum[data_len-seq_len+1-(data_len-j):data_len-seq_len+1] += out[j, :(data_len-j)]\n",
    "                    pred_cnt[data_len-seq_len+1-(data_len-j):data_len-seq_len+1] += 1\n",
    "            truth = torch.tensor([lbl[j,-1] for j in range(len(lbl)-seq_len+1)], dtype=torch.float)\n",
    "            pred_sum, pred_cnt = pred_sum[:data_len-seq_len+1], pred_cnt[:data_len-seq_len+1]\n",
    "            pred = pred_sum/pred_cnt\n",
    "            mse = float(torch.sum(torch.pow(pred-truth, 2)))\n",
    "            rmse = math.sqrt(mse/data_len)\n",
    "            tot += rmse\n",
    "    return tot*Rc/len(valid_list)\n",
    "\n",
    "\n",
    "def train():\n",
    "    minn = 999\n",
    "    for e in tqdm(range(epochs)):\n",
    "        al, tot = 0, 0\n",
    "        net.train()\n",
    "        random.shuffle(source_list)\n",
    "        random.shuffle(target_list)\n",
    "        source_iter, target_iter = iter(source_list), iter(target_list)\n",
    "        loss2_sum, loss1_sum = 0, 0\n",
    "        bkb_sum, out_sum = 0, 0\n",
    "        cnt = 0\n",
    "        s_iter = iter(DataLoader(s_data, batch_size=args.batch_size, shuffle=True))\n",
    "        t_iter = iter(DataLoader(t_data, batch_size=args.batch_size, shuffle=True))\n",
    "        l = min(len(s_iter), len(t_iter))\n",
    "        for _ in range(l):\n",
    "            s_d, t_d = next(s_iter), next(t_iter)\n",
    "            s_input, s_lb, s_msk = s_d[0], s_d[1], s_d[2]\n",
    "            t_input, t_msk = t_d[0], t_d[2]\n",
    "            s_input, s_lb, s_msk = s_input.cuda(), s_lb.cuda(), s_msk.cuda()\n",
    "            t_input, t_msk = t_input.cuda(), t_msk.cuda()\n",
    "            s_features, s_out = net(s_input, s_msk)\n",
    "            t_features, t_out = net(t_input, t_msk) # [bts, seq_len, feature_num]\n",
    "            s_out.squeeze_(2)\n",
    "            t_out.squeeze_(2)\n",
    "            loss1 = Loss(s_out, s_lb)\n",
    "            loss1_sum += loss1\n",
    "            cnt += 1\n",
    "            if args.type == 1 or args.type == 0:\n",
    "                if args.type == 1:\n",
    "                    s_domain = D2(s_features)\n",
    "                    t_domain = D2(t_features)\n",
    "                else:\n",
    "                    s_domain = D1(s_out)\n",
    "                    t_domain = D1(t_out)\n",
    "                loss2 = advLoss(s_domain.squeeze(1), t_domain.squeeze(1), 'cuda')\n",
    "                loss2_sum += loss2\n",
    "                loss = loss1 + a*loss2\n",
    "            elif args.type == 2:\n",
    "                s_domain_bkb = D2(s_features)\n",
    "                t_domain_bkb = D2(t_features)\n",
    "                s_domain_out = D1(s_out)\n",
    "                t_domain_out = D1(t_out)\n",
    "                if e>=5:\n",
    "                    fea_loss = advLoss(s_domain_bkb.squeeze(1), t_domain_bkb.squeeze(1), 'cuda')\n",
    "                    out_loss = advLoss(s_domain_out.squeeze(1), t_domain_out.squeeze(1), 'cuda')\n",
    "                    bkb_sum += fea_loss\n",
    "                    out_sum += out_loss\n",
    "                    loss = loss1 + a*fea_loss + b*out_loss\n",
    "                else:\n",
    "                    loss = loss1\n",
    "            opt.zero_grad()\n",
    "            loss.backward()\n",
    "            torch.nn.utils.clip_grad_norm_(itertools.chain(net.parameters(), D1.parameters(), D2.parameters()), 2)\n",
    "            opt.step()    \n",
    "\n",
    "        rmse = validate()\n",
    "        if args.type == 2:\n",
    "            print(\"{}/{}| loss1={:.5f}, fea_loss={:.5f}, out_loss={:.5f}, rmse={:.5f}\".\\\n",
    "                format(e, args.epoch, loss1_sum/cnt, bkb_sum/cnt, out_sum/cnt, rmse))\n",
    "            \n",
    "            with open(\"/Domain-Adaptive-Remaining-Useful-Life-Prediction-with-Transformer/result.txt\",'a') as f:\n",
    "                f.write(\"{}/{}| loss1={:.5f}, fea_loss={:.5f}, out_loss={:.5f}, rmse={:.5f}\\n\".\\\n",
    "                format(e, args.epoch, loss1_sum/cnt, bkb_sum/cnt, out_sum/cnt, rmse))\n",
    "        else:    \n",
    "            print(\"{}/{}| 1={:.5f}, 2={:.5f}, rmse={:.5f}\".format(e, args.epoch, loss1, loss2_sum/cnt, rmse))\n",
    "        if rmse<minn:\n",
    "            minn = rmse\n",
    "            print(\"min={}\".format(minn))\n",
    "            if args.type == 1:\n",
    "                torch.save(net.state_dict(), \"save/final/dann_\"+source[-1]+target[-1]+\".pth\")\n",
    "            elif args.type == 0:\n",
    "                torch.save(net.state_dict(), \"save/final/out_\"+source[-1]+target[-1]+\".pth\")\n",
    "            elif args.type == 2 :\n",
    "                #torch.save(net.state_dict(), \"save/final/both_\"+source[-1]+target[-1]+\".pth\")\n",
    "                torch.save(net.state_dict(), \"online/\"+source[-1]+target[-1]+\"_net.pth\")\n",
    "                torch.save(D1.state_dict(), \"online/\"+source[-1]+target[-1]+\"_D1.pth\")\n",
    "                torch.save(D2.state_dict(), \"online/\"+source[-1]+target[-1]+\"_D2.pth\")\n",
    "        \n",
    "        if args.scheduler:\n",
    "            sch.step()\n",
    "\n",
    "    return minn"
   ]
  },
  {
   "cell_type": "code",
   "execution_count": 2,
   "metadata": {},
   "outputs": [
    {
     "ename": "ModuleNotFoundError",
     "evalue": "No module named 'mydataset'",
     "output_type": "error",
     "traceback": [
      "\u001b[0;31m---------------------------------------------------------------------------\u001b[0m",
      "\u001b[0;31mModuleNotFoundError\u001b[0m                       Traceback (most recent call last)",
      "\u001b[0;32m/tmp/ipykernel_1911/3309547229.py\u001b[0m in \u001b[0;36m<module>\u001b[0;34m\u001b[0m\n\u001b[1;32m      1\u001b[0m \u001b[0;32mimport\u001b[0m \u001b[0mpickle\u001b[0m\u001b[0;34m\u001b[0m\u001b[0;34m\u001b[0m\u001b[0m\n\u001b[1;32m      2\u001b[0m \u001b[0;32mwith\u001b[0m \u001b[0mopen\u001b[0m\u001b[0;34m(\u001b[0m\u001b[0;34m'/Domain-Adaptive-Remaining-Useful-Life-Prediction-with-Transformer/RUL/s_data.dat'\u001b[0m\u001b[0;34m,\u001b[0m\u001b[0;34m'rb'\u001b[0m\u001b[0;34m)\u001b[0m \u001b[0;32mas\u001b[0m \u001b[0mf\u001b[0m\u001b[0;34m:\u001b[0m\u001b[0;34m\u001b[0m\u001b[0;34m\u001b[0m\u001b[0m\n\u001b[0;32m----> 3\u001b[0;31m     \u001b[0ms_data\u001b[0m \u001b[0;34m=\u001b[0m \u001b[0mpickle\u001b[0m\u001b[0;34m.\u001b[0m\u001b[0mload\u001b[0m\u001b[0;34m(\u001b[0m\u001b[0mf\u001b[0m\u001b[0;34m)\u001b[0m\u001b[0;34m\u001b[0m\u001b[0;34m\u001b[0m\u001b[0m\n\u001b[0m",
      "\u001b[0;31mModuleNotFoundError\u001b[0m: No module named 'mydataset'"
     ]
    }
   ],
   "source": []
  },
  {
   "cell_type": "code",
   "execution_count": null,
   "metadata": {},
   "outputs": [],
   "source": []
  }
 ],
 "metadata": {
  "kernelspec": {
   "display_name": "Python 3",
   "language": "python",
   "name": "python3"
  },
  "language_info": {
   "codemirror_mode": {
    "name": "ipython",
    "version": 3
   },
   "file_extension": ".py",
   "mimetype": "text/x-python",
   "name": "python",
   "nbconvert_exporter": "python",
   "pygments_lexer": "ipython3",
   "version": "3.7.5"
  },
  "orig_nbformat": 4
 },
 "nbformat": 4,
 "nbformat_minor": 2
}
