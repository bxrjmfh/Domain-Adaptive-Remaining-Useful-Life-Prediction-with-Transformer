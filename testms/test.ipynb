{
 "cells": [
  {
   "cell_type": "code",
   "execution_count": 1,
   "metadata": {},
   "outputs": [
    {
     "name": "stdout",
     "output_type": "stream",
     "text": [
      "--2023-04-22 10:03:16--  https://mindspore-website.obs.myhuaweicloud.com/notebook/datasets/mnist/train-labels-idx1-ubyte\n",
      "Resolving mindspore-website.obs.myhuaweicloud.com (mindspore-website.obs.myhuaweicloud.com)... 121.36.121.84, 49.4.112.92, 49.4.112.91\n",
      "Connecting to mindspore-website.obs.myhuaweicloud.com (mindspore-website.obs.myhuaweicloud.com)|121.36.121.84|:443... connected.\n",
      "HTTP request sent, awaiting response... 200 OK\n",
      "Length: 60008 (59K) [binary/octet-stream]\n",
      "Saving to: ‘./datasets/MNIST_Data/train/train-labels-idx1-ubyte’\n",
      "\n",
      "train-labels-idx1-u 100%[===================>]  58.60K  --.-KB/s    in 0.1s    \n",
      "\n",
      "2023-04-22 10:03:17 (483 KB/s) - ‘./datasets/MNIST_Data/train/train-labels-idx1-ubyte’ saved [60008/60008]\n",
      "\n",
      "--2023-04-22 10:03:17--  https://mindspore-website.obs.myhuaweicloud.com/notebook/datasets/mnist/train-images-idx3-ubyte\n",
      "Resolving mindspore-website.obs.myhuaweicloud.com (mindspore-website.obs.myhuaweicloud.com)... 121.36.121.84, 49.4.112.91, 49.4.112.92\n",
      "Connecting to mindspore-website.obs.myhuaweicloud.com (mindspore-website.obs.myhuaweicloud.com)|121.36.121.84|:443... connected.\n",
      "HTTP request sent, awaiting response... 200 OK\n",
      "Length: 47040016 (45M) [binary/octet-stream]\n",
      "Saving to: ‘./datasets/MNIST_Data/train/train-images-idx3-ubyte’\n",
      "\n",
      "train-images-idx3-u 100%[===================>]  44.86M  8.95MB/s    in 5.4s    \n",
      "\n",
      "2023-04-22 10:03:23 (8.27 MB/s) - ‘./datasets/MNIST_Data/train/train-images-idx3-ubyte’ saved [47040016/47040016]\n",
      "\n",
      "--2023-04-22 10:03:23--  https://mindspore-website.obs.myhuaweicloud.com/notebook/datasets/mnist/t10k-labels-idx1-ubyte\n",
      "Resolving mindspore-website.obs.myhuaweicloud.com (mindspore-website.obs.myhuaweicloud.com)... 121.36.121.84, 49.4.112.92, 49.4.112.91\n",
      "Connecting to mindspore-website.obs.myhuaweicloud.com (mindspore-website.obs.myhuaweicloud.com)|121.36.121.84|:443... connected.\n",
      "HTTP request sent, awaiting response... 200 OK\n",
      "Length: 10008 (9.8K) [binary/octet-stream]\n",
      "Saving to: ‘./datasets/MNIST_Data/test/t10k-labels-idx1-ubyte’\n",
      "\n",
      "t10k-labels-idx1-ub 100%[===================>]   9.77K  --.-KB/s    in 0.001s  \n",
      "\n",
      "2023-04-22 10:03:23 (18.7 MB/s) - ‘./datasets/MNIST_Data/test/t10k-labels-idx1-ubyte’ saved [10008/10008]\n",
      "\n",
      "--2023-04-22 10:03:24--  https://mindspore-website.obs.myhuaweicloud.com/notebook/datasets/mnist/t10k-images-idx3-ubyte\n",
      "Resolving mindspore-website.obs.myhuaweicloud.com (mindspore-website.obs.myhuaweicloud.com)... 121.36.121.84, 49.4.112.92, 49.4.112.91\n",
      "Connecting to mindspore-website.obs.myhuaweicloud.com (mindspore-website.obs.myhuaweicloud.com)|121.36.121.84|:443... connected.\n",
      "HTTP request sent, awaiting response... 200 OK\n",
      "Length: 7840016 (7.5M) [binary/octet-stream]\n",
      "Saving to: ‘./datasets/MNIST_Data/test/t10k-images-idx3-ubyte’\n",
      "\n",
      "t10k-images-idx3-ub 100%[===================>]   7.48M  4.11MB/s    in 1.8s    \n",
      "\n",
      "2023-04-22 10:03:26 (4.11 MB/s) - ‘./datasets/MNIST_Data/test/t10k-images-idx3-ubyte’ saved [7840016/7840016]\n",
      "\n",
      "/bin/bash: tree: command not found\n"
     ]
    }
   ],
   "source": [
    "!mkdir -p ./datasets/MNIST_Data/train ./datasets/MNIST_Data/test\n",
    "!wget -NP ./datasets/MNIST_Data/train https://mindspore-website.obs.myhuaweicloud.com/notebook/datasets/mnist/train-labels-idx1-ubyte --no-check-certificate\n",
    "!wget -NP ./datasets/MNIST_Data/train https://mindspore-website.obs.myhuaweicloud.com/notebook/datasets/mnist/train-images-idx3-ubyte --no-check-certificate\n",
    "!wget -NP ./datasets/MNIST_Data/test https://mindspore-website.obs.myhuaweicloud.com/notebook/datasets/mnist/t10k-labels-idx1-ubyte --no-check-certificate\n",
    "!wget -NP ./datasets/MNIST_Data/test https://mindspore-website.obs.myhuaweicloud.com/notebook/datasets/mnist/t10k-images-idx3-ubyte --no-check-certificate\n",
    "!tree ./datasets/MNIST_Data\n"
   ]
  }
 ],
 "metadata": {
  "kernelspec": {
   "display_name": "Python 3",
   "language": "python",
   "name": "python3"
  },
  "language_info": {
   "codemirror_mode": {
    "name": "ipython",
    "version": 3
   },
   "file_extension": ".py",
   "mimetype": "text/x-python",
   "name": "python",
   "nbconvert_exporter": "python",
   "pygments_lexer": "ipython3",
   "version": "3.7.5"
  },
  "orig_nbformat": 4
 },
 "nbformat": 4,
 "nbformat_minor": 2
}
